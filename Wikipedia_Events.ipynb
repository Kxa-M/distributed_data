{
  "nbformat": 4,
  "nbformat_minor": 0,
  "metadata": {
    "colab": {
      "provenance": [],
      "collapsed_sections": [],
      "authorship_tag": "ABX9TyObZOXDZq/q51bPAumUPaz9",
      "include_colab_link": true
    },
    "kernelspec": {
      "name": "python3",
      "display_name": "Python 3"
    },
    "language_info": {
      "name": "python"
    }
  },
  "cells": [
    {
      "cell_type": "markdown",
      "metadata": {
        "id": "view-in-github",
        "colab_type": "text"
      },
      "source": [
        "<a href=\"https://colab.research.google.com/github/momo54/large_scale_data_management/blob/main/Wikipedia_Events.ipynb\" target=\"_parent\"><img src=\"https://colab.research.google.com/assets/colab-badge.svg\" alt=\"Open In Colab\"/></a>"
      ]
    },
    {
      "cell_type": "markdown",
      "source": [
        "# Streaming Wikipedia Events\n",
        "\n",
        "FROM: https://github.com/donaghhorgan/COMP9033/blob/master/lectures/12%20-%20Streaming%20Data%20Analysis.pdf\n",
        "\n"
      ],
      "metadata": {
        "id": "KfNaFztkruuq"
      }
    },
    {
      "cell_type": "code",
      "execution_count": 1,
      "metadata": {
        "id": "ektbQGDXpie7",
        "outputId": "878f31b2-af94-4048-ec04-8927b65687bb",
        "colab": {
          "base_uri": "https://localhost:8080/"
        }
      },
      "outputs": [
        {
          "output_type": "stream",
          "name": "stdout",
          "text": [
            "Looking in indexes: https://pypi.org/simple, https://us-python.pkg.dev/colab-wheels/public/simple/\n",
            "Collecting pyspark\n",
            "  Downloading pyspark-3.3.1.tar.gz (281.4 MB)\n",
            "\u001b[K     |████████████████████████████████| 281.4 MB 42 kB/s \n",
            "\u001b[?25hCollecting py4j==0.10.9.5\n",
            "  Downloading py4j-0.10.9.5-py2.py3-none-any.whl (199 kB)\n",
            "\u001b[K     |████████████████████████████████| 199 kB 51.6 MB/s \n",
            "\u001b[?25hBuilding wheels for collected packages: pyspark\n",
            "  Building wheel for pyspark (setup.py) ... \u001b[?25l\u001b[?25hdone\n",
            "  Created wheel for pyspark: filename=pyspark-3.3.1-py2.py3-none-any.whl size=281845513 sha256=9799a9123040b09487d705d545893f0971d29195133b9c063174ff401418253b\n",
            "  Stored in directory: /root/.cache/pip/wheels/42/59/f5/79a5bf931714dcd201b26025347785f087370a10a3329a899c\n",
            "Successfully built pyspark\n",
            "Installing collected packages: py4j, pyspark\n",
            "Successfully installed py4j-0.10.9.5 pyspark-3.3.1\n"
          ]
        }
      ],
      "source": [
        "#install software\n",
        "# No clustering for this install !!\n",
        "!pip install pyspark\n",
        "!pip install -q findspark\n",
        "import findspark\n",
        "findspark.init()"
      ]
    },
    {
      "cell_type": "code",
      "source": [
        "# start the spark session\n",
        "\n",
        "from pyspark.sql import SparkSession\n",
        "from pyspark.sql.functions import explode\n",
        "from pyspark.sql.functions import split\n",
        "\n",
        "spark = SparkSession \\\n",
        "    .builder \\\n",
        "    .appName(\"Wikipedia Event\") \\\n",
        "    .getOrCreate()"
      ],
      "metadata": {
        "id": "7oyKPU9TpzP3"
      },
      "execution_count": 2,
      "outputs": []
    },
    {
      "cell_type": "markdown",
      "metadata": {
        "id": "i51vx7xYkjLV"
      },
      "source": [
        "### Streaming Wikipedia events\n",
        "\n",
        "Currently, Spark supports three kinds of streaming connection out of the box:\n",
        "\n",
        "FROM:\n",
        "https://github.com/donaghhorgan/COMP9033/blob/master/lectures/12%20-%20Streaming%20Data%20Analysis.pdf \n",
        "\n",
        "1. Connect to the Wikipedia RecentChanges stream using SSEClient.\n",
        "2. Create a local socket connection on port 50000.\n",
        "3. When a client (e.g. Spark) connects to the local socket, relay the next available event to it from the event stream."
      ]
    },
    {
      "cell_type": "code",
      "execution_count": 3,
      "metadata": {
        "id": "bbhUlXOtkjLT",
        "outputId": "b7e170a4-a24c-4dc7-d9a9-1a27bbca3d79",
        "colab": {
          "base_uri": "https://localhost:8080/"
        }
      },
      "outputs": [
        {
          "output_type": "stream",
          "name": "stdout",
          "text": [
            "Looking in indexes: https://pypi.org/simple, https://us-python.pkg.dev/colab-wheels/public/simple/\n",
            "Collecting sseclient\n",
            "  Downloading sseclient-0.0.27.tar.gz (7.5 kB)\n",
            "Requirement already satisfied: requests>=2.9 in /usr/local/lib/python3.7/dist-packages (from sseclient) (2.23.0)\n",
            "Requirement already satisfied: six in /usr/local/lib/python3.7/dist-packages (from sseclient) (1.15.0)\n",
            "Requirement already satisfied: certifi>=2017.4.17 in /usr/local/lib/python3.7/dist-packages (from requests>=2.9->sseclient) (2022.9.24)\n",
            "Requirement already satisfied: idna<3,>=2.5 in /usr/local/lib/python3.7/dist-packages (from requests>=2.9->sseclient) (2.10)\n",
            "Requirement already satisfied: urllib3!=1.25.0,!=1.25.1,<1.26,>=1.21.1 in /usr/local/lib/python3.7/dist-packages (from requests>=2.9->sseclient) (1.24.3)\n",
            "Requirement already satisfied: chardet<4,>=3.0.2 in /usr/local/lib/python3.7/dist-packages (from requests>=2.9->sseclient) (3.0.4)\n",
            "Building wheels for collected packages: sseclient\n",
            "  Building wheel for sseclient (setup.py) ... \u001b[?25l\u001b[?25hdone\n",
            "  Created wheel for sseclient: filename=sseclient-0.0.27-py3-none-any.whl size=5584 sha256=65418c7dc0e294848136b7a87e91844373257fed3ce62e64d693feb7edc3781e\n",
            "  Stored in directory: /root/.cache/pip/wheels/07/67/7e/96edf627ac746de1a5c5cbb8d59ed960f033b8352dc12c545d\n",
            "Successfully built sseclient\n",
            "Installing collected packages: sseclient\n",
            "Successfully installed sseclient-0.0.27\n"
          ]
        }
      ],
      "source": [
        "!pip install sseclient\n",
        "from pyspark.streaming import StreamingContext\n",
        "from sseclient import SSEClient\n",
        "import threading"
      ]
    },
    {
      "cell_type": "code",
      "source": [
        "!rm test.json\n",
        "\n",
        "msgs = SSEClient('https://stream.wikimedia.org/v2/stream/recentchange')\n",
        "\n",
        "i=0\n",
        "with open(\"test.json\", \"w\") as outfile:\n",
        "  for e in msgs:\n",
        "    print(e)\n",
        "    outfile.write(f\"{e}\\n\")\n",
        "    i=i+1\n",
        "    if i>10:\n",
        "      break"
      ],
      "metadata": {
        "id": "y3X2z7eHEBkt",
        "outputId": "3fa5eb0f-7cff-4568-ab0c-25efa0bee84a",
        "colab": {
          "base_uri": "https://localhost:8080/"
        }
      },
      "execution_count": 4,
      "outputs": [
        {
          "output_type": "stream",
          "name": "stdout",
          "text": [
            "rm: cannot remove 'test.json': No such file or directory\n",
            "\n",
            "{\"$schema\":\"/mediawiki/recentchange/1.0.0\",\"meta\":{\"uri\":\"https://commons.wikimedia.org/wiki/File:Divo_Francisco_Borgi%C3%A6_%C3%A8_Duce_Gandi%C3%A6_tertio,_Soc._Jesu_generali,_%C3%A0_Clemente_X_Pont._Max._sanctorum_clitum_fastis_ad_scripto,_Encomia_emblemate,_prosa,_versu_in_de_salvatoris_Soc._Iesv_ad_S._Clementem,_(14745375491).jpg\",\"request_id\":\"c4baf7f9-f243-4aa6-8907-c66f3f9286d5\",\"id\":\"f9becded-5ebe-432b-b081-67fbfd1e9f54\",\"dt\":\"2022-10-27T12:22:55Z\",\"domain\":\"commons.wikimedia.org\",\"stream\":\"mediawiki.recentchange\",\"topic\":\"eqiad.mediawiki.recentchange\",\"partition\":0,\"offset\":4264435683},\"id\":2039397674,\"type\":\"edit\",\"namespace\":6,\"title\":\"File:Divo Francisco Borgiæ è Duce Gandiæ tertio, Soc. Jesu generali, à Clemente X Pont. Max. sanctorum clitum fastis ad scripto, Encomia emblemate, prosa, versu in de salvatoris Soc. Iesv ad S. Clementem, (14745375491).jpg\",\"comment\":\"/* wbeditentity-update:0| */ automatically modify [[Commons:Structured data|structured data]] based on file information: meta\",\"timestamp\":1666873375,\"user\":\"SchlurcherBot\",\"bot\":true,\"minor\":false,\"patrolled\":true,\"length\":{\"old\":9769,\"new\":10121},\"revision\":{\"old\":610168583,\"new\":699607120},\"server_url\":\"https://commons.wikimedia.org\",\"server_name\":\"commons.wikimedia.org\",\"server_script_path\":\"/w\",\"wiki\":\"commonswiki\",\"parsedcomment\":\"‎<span dir=\\\"auto\\\"><span class=\\\"autocomment\\\">Ein Objekt geändert: </span></span> automatically modify <a href=\\\"/wiki/Commons:Structured_data\\\" title=\\\"Commons:Structured data\\\">structured data</a> based on file information: meta\"}\n",
            "{\"$schema\":\"/mediawiki/recentchange/1.0.0\",\"meta\":{\"uri\":\"https://commons.wikimedia.org/wiki/Category:Pages_with_camera_coordinates_from_SDC\",\"request_id\":\"c483a316-5f8c-4694-88b0-9a4e38abe834\",\"id\":\"1a250c62-aa05-4626-b8fe-75e360627c28\",\"dt\":\"2022-10-27T12:22:53Z\",\"domain\":\"commons.wikimedia.org\",\"stream\":\"mediawiki.recentchange\",\"topic\":\"eqiad.mediawiki.recentchange\",\"partition\":0,\"offset\":4264435684},\"id\":2039397675,\"type\":\"categorize\",\"namespace\":14,\"title\":\"Category:Pages with camera coordinates from SDC\",\"comment\":\"[[:File:ISS067-E-242619 - View of Earth.jpg]] added to category\",\"timestamp\":1666873373,\"user\":\"AskeBot\",\"bot\":true,\"server_url\":\"https://commons.wikimedia.org\",\"server_name\":\"commons.wikimedia.org\",\"server_script_path\":\"/w\",\"wiki\":\"commonswiki\",\"parsedcomment\":\"<a href=\\\"/wiki/File:ISS067-E-242619_-_View_of_Earth.jpg\\\" title=\\\"File:ISS067-E-242619 - View of Earth.jpg\\\">File:ISS067-E-242619 - View of Earth.jpg</a> added to category\"}\n",
            "{\"$schema\":\"/mediawiki/recentchange/1.0.0\",\"meta\":{\"uri\":\"https://commons.wikimedia.org/wiki/Category:Pages_with_maps\",\"request_id\":\"c483a316-5f8c-4694-88b0-9a4e38abe834\",\"id\":\"2aa44fc0-a310-4944-a637-0504a8da0171\",\"dt\":\"2022-10-27T12:22:53Z\",\"domain\":\"commons.wikimedia.org\",\"stream\":\"mediawiki.recentchange\",\"topic\":\"eqiad.mediawiki.recentchange\",\"partition\":0,\"offset\":4264435685},\"id\":2039397676,\"type\":\"categorize\",\"namespace\":14,\"title\":\"Category:Pages with maps\",\"comment\":\"[[:File:ISS067-E-242619 - View of Earth.jpg]] added to category\",\"timestamp\":1666873373,\"user\":\"AskeBot\",\"bot\":true,\"server_url\":\"https://commons.wikimedia.org\",\"server_name\":\"commons.wikimedia.org\",\"server_script_path\":\"/w\",\"wiki\":\"commonswiki\",\"parsedcomment\":\"<a href=\\\"/wiki/File:ISS067-E-242619_-_View_of_Earth.jpg\\\" title=\\\"File:ISS067-E-242619 - View of Earth.jpg\\\">File:ISS067-E-242619 - View of Earth.jpg</a> added to category\"}\n",
            "{\"$schema\":\"/mediawiki/recentchange/1.0.0\",\"meta\":{\"uri\":\"https://pt.wikipedia.org/wiki/Wikip%C3%A9dia:P%C3%A1ginas_para_eliminar/Arquivo_de_mantidas/Outubro_2022\",\"request_id\":\"1df369f2-b093-4c3b-bb4f-3dc2392e89d6\",\"id\":\"6318325b-9031-4c34-b436-af67d4634799\",\"dt\":\"2022-10-27T12:22:55Z\",\"domain\":\"pt.wikipedia.org\",\"stream\":\"mediawiki.recentchange\",\"topic\":\"eqiad.mediawiki.recentchange\",\"partition\":0,\"offset\":4264435686},\"id\":117142063,\"type\":\"edit\",\"namespace\":4,\"title\":\"Wikipédia:Páginas para eliminar/Arquivo de mantidas/Outubro 2022\",\"comment\":\"arquivando [[Cléo Ventura]]; processo assistido por [[MediaWiki:Gadget-arquivarPEs.js|um script]]\",\"timestamp\":1666873375,\"user\":\"79a\",\"bot\":false,\"minor\":false,\"patrolled\":true,\"length\":{\"old\":6369,\"new\":6461},\"revision\":{\"old\":64633214,\"new\":64635691},\"server_url\":\"https://pt.wikipedia.org\",\"server_name\":\"pt.wikipedia.org\",\"server_script_path\":\"/w\",\"wiki\":\"ptwiki\",\"parsedcomment\":\"arquivando <a href=\\\"/wiki/Cl%C3%A9o_Ventura\\\" title=\\\"Cléo Ventura\\\">Cléo Ventura</a>; processo assistido por <a href=\\\"/wiki/MediaWiki:Gadget-arquivarPEs.js\\\" title=\\\"MediaWiki:Gadget-arquivarPEs.js\\\">um script</a>\"}\n",
            "{\"$schema\":\"/mediawiki/recentchange/1.0.0\",\"meta\":{\"uri\":\"https://www.wikidata.org/wiki/Q89702554\",\"request_id\":\"6b74d211-dc47-4341-a1f0-9a5db3a08290\",\"id\":\"7e10192f-6c6b-4f0f-aff0-af1d137164f7\",\"dt\":\"2022-10-27T12:22:55Z\",\"domain\":\"www.wikidata.org\",\"stream\":\"mediawiki.recentchange\",\"topic\":\"eqiad.mediawiki.recentchange\",\"partition\":0,\"offset\":4264435687},\"id\":1813544774,\"type\":\"edit\",\"namespace\":0,\"title\":\"Q89702554\",\"comment\":\"/* wbsetdescription-add:1|uk */ енциклопедична стаття в Paulys Realencyclopädie der classischen Altertumswissenschaft (RE), [[:toollabs:quickstatements/#/batch/103104|batch #103104]]\",\"timestamp\":1666873375,\"user\":\"Renamerr\",\"bot\":false,\"minor\":false,\"patrolled\":true,\"length\":{\"old\":7959,\"new\":8131},\"revision\":{\"old\":1501899161,\"new\":1759232422},\"server_url\":\"https://www.wikidata.org\",\"server_name\":\"www.wikidata.org\",\"server_script_path\":\"/w\",\"wiki\":\"wikidatawiki\",\"parsedcomment\":\"‎<span dir=\\\"auto\\\"><span class=\\\"autocomment\\\">Додано опис [uk]: </span></span> енциклопедична стаття в Paulys Realencyclopädie der classischen Altertumswissenschaft (RE), <a href=\\\"https://iw.toolforge.org/quickstatements/#.2Fbatch.2F103104\\\" class=\\\"extiw\\\" title=\\\"toollabs:quickstatements/\\\">batch #103104</a>\"}\n",
            "{\"$schema\":\"/mediawiki/recentchange/1.0.0\",\"meta\":{\"uri\":\"https://www.wikidata.org/wiki/Q68315588\",\"request_id\":\"539895d7-fd2f-4e61-be62-de5f8ba2f3d3\",\"id\":\"01384822-eae1-4477-b748-fbbfafc0ae28\",\"dt\":\"2022-10-27T12:22:55Z\",\"domain\":\"www.wikidata.org\",\"stream\":\"mediawiki.recentchange\",\"topic\":\"eqiad.mediawiki.recentchange\",\"partition\":0,\"offset\":4264435688},\"id\":1813544775,\"type\":\"edit\",\"namespace\":0,\"title\":\"Q68315588\",\"comment\":\"/* wbsetqualifier-add:1| */ [[Property:P1545]]: 5, Modify PubMed ID: 1679910 citation data from NCBI, Europe PMC and CrossRef\",\"timestamp\":1666873375,\"user\":\"Cewbot\",\"bot\":true,\"minor\":false,\"patrolled\":true,\"length\":{\"old\":46922,\"new\":47199},\"revision\":{\"old\":1759232420,\"new\":1759232423},\"server_url\":\"https://www.wikidata.org\",\"server_name\":\"www.wikidata.org\",\"server_script_path\":\"/w\",\"wiki\":\"wikidatawiki\",\"parsedcomment\":\"‎<span dir=\\\"auto\\\"><span class=\\\"autocomment\\\">Added qualifier: </span></span> <a href=\\\"/wiki/Property:P1545\\\" title=\\\"Property:P1545\\\">Property:P1545</a>: 5, Modify PubMed ID: 1679910 citation data from NCBI, Europe PMC and CrossRef\"}\n",
            "{\"$schema\":\"/mediawiki/recentchange/1.0.0\",\"meta\":{\"uri\":\"https://pt.wikipedia.org/wiki/Wikip%C3%A9dia:P%C3%A1ginas_para_eliminar/Cl%C3%A9o_Ventura\",\"request_id\":\"3e161728-7c4d-4464-bcc7-0d344f0289b1\",\"id\":\"9e4576e6-63a7-456d-b172-813ef8ca519b\",\"dt\":\"2022-10-27T12:22:54Z\",\"domain\":\"pt.wikipedia.org\",\"stream\":\"mediawiki.recentchange\",\"topic\":\"eqiad.mediawiki.recentchange\",\"partition\":0,\"offset\":4264435689},\"id\":117142064,\"type\":\"edit\",\"namespace\":4,\"title\":\"Wikipédia:Páginas para eliminar/Cléo Ventura\",\"comment\":\"Fechando PE; processo assistido por [[MediaWiki:Gadget-arquivarPEs.js|um script]]\",\"timestamp\":1666873374,\"user\":\"79a\",\"bot\":false,\"minor\":false,\"patrolled\":true,\"length\":{\"old\":4052,\"new\":4086},\"revision\":{\"old\":64635689,\"new\":64635690},\"server_url\":\"https://pt.wikipedia.org\",\"server_name\":\"pt.wikipedia.org\",\"server_script_path\":\"/w\",\"wiki\":\"ptwiki\",\"parsedcomment\":\"Fechando PE; processo assistido por <a href=\\\"/wiki/MediaWiki:Gadget-arquivarPEs.js\\\" title=\\\"MediaWiki:Gadget-arquivarPEs.js\\\">um script</a>\"}\n",
            "{\"$schema\":\"/mediawiki/recentchange/1.0.0\",\"meta\":{\"uri\":\"https://id.wikipedia.org/wiki/Kategori:Artikel_biografi_Oktober_2022\",\"request_id\":\"f27e8464-7580-4702-a731-efe2346f9d82\",\"id\":\"5e274266-5d81-47fb-ac2a-1c246e97d425\",\"dt\":\"2022-10-27T12:22:49Z\",\"domain\":\"id.wikipedia.org\",\"stream\":\"mediawiki.recentchange\",\"topic\":\"eqiad.mediawiki.recentchange\",\"partition\":0,\"offset\":4264435690},\"id\":53018299,\"type\":\"categorize\",\"namespace\":14,\"title\":\"Kategori:Artikel biografi Oktober 2022\",\"comment\":\"[[:Diana, Putri Wales]] ditambahkan ke kategori\",\"timestamp\":1666873369,\"user\":\"Ramadhan Rizkyyyy 1911\",\"bot\":false,\"server_url\":\"https://id.wikipedia.org\",\"server_name\":\"id.wikipedia.org\",\"server_script_path\":\"/w\",\"wiki\":\"idwiki\",\"parsedcomment\":\"<a href=\\\"/wiki/Diana,_Putri_Wales\\\" title=\\\"Diana, Putri Wales\\\">Diana, Putri Wales</a> ditambahkan ke kategori\"}\n",
            "{\"$schema\":\"/mediawiki/recentchange/1.0.0\",\"meta\":{\"uri\":\"https://id.wikipedia.org/wiki/Kategori:Artikel_biografi_September_2022\",\"request_id\":\"f27e8464-7580-4702-a731-efe2346f9d82\",\"id\":\"e2ea0687-c788-4565-810a-a924d3f63480\",\"dt\":\"2022-10-27T12:22:49Z\",\"domain\":\"id.wikipedia.org\",\"stream\":\"mediawiki.recentchange\",\"topic\":\"eqiad.mediawiki.recentchange\",\"partition\":0,\"offset\":4264435691},\"id\":53018300,\"type\":\"categorize\",\"namespace\":14,\"title\":\"Kategori:Artikel biografi September 2022\",\"comment\":\"[[:Diana, Putri Wales]] dihapus dari kategori\",\"timestamp\":1666873369,\"user\":\"Ramadhan Rizkyyyy 1911\",\"bot\":false,\"server_url\":\"https://id.wikipedia.org\",\"server_name\":\"id.wikipedia.org\",\"server_script_path\":\"/w\",\"wiki\":\"idwiki\",\"parsedcomment\":\"<a href=\\\"/wiki/Diana,_Putri_Wales\\\" title=\\\"Diana, Putri Wales\\\">Diana, Putri Wales</a> dihapus dari kategori\"}\n",
            "{\"$schema\":\"/mediawiki/recentchange/1.0.0\",\"meta\":{\"uri\":\"https://zh.wikipedia.org/wiki/%E8%B0%A2%E4%B8%87%E5%86%9B\",\"request_id\":\"fac62c6d-332c-4cff-933f-900407b6b745\",\"id\":\"1082dc8a-e3cb-45bd-ba24-79812c32765e\",\"dt\":\"2022-10-27T12:22:55Z\",\"domain\":\"zh.wikipedia.org\",\"stream\":\"mediawiki.recentchange\",\"topic\":\"eqiad.mediawiki.recentchange\",\"partition\":0,\"offset\":4264435692},\"id\":153264133,\"type\":\"edit\",\"namespace\":0,\"title\":\"谢万军\",\"comment\":\"已解决的问题 // Edited with [[User:镜音铃/Wikiplus|W+]] ([[谢万军|Entire]])\",\"timestamp\":1666873375,\"user\":\"Hotaru Natsumi\",\"bot\":false,\"minor\":true,\"patrolled\":true,\"length\":{\"old\":1534,\"new\":1481},\"revision\":{\"old\":74274793,\"new\":74274826},\"server_url\":\"https://zh.wikipedia.org\",\"server_name\":\"zh.wikipedia.org\",\"server_script_path\":\"/w\",\"wiki\":\"zhwiki\",\"parsedcomment\":\"已解决的问题 // Edited with <a href=\\\"/wiki/User:%E9%95%9C%E9%9F%B3%E9%93%83/Wikiplus\\\" class=\\\"mw-redirect\\\" title=\\\"User:镜音铃/Wikiplus\\\">W+</a> (<a href=\\\"/wiki/%E8%B0%A2%E4%B8%87%E5%86%9B\\\" title=\\\"谢万军\\\">Entire</a>)\"}\n"
          ]
        }
      ]
    },
    {
      "cell_type": "code",
      "execution_count": 14,
      "metadata": {
        "deletable": true,
        "editable": true,
        "id": "YynMdnjqkjLW"
      },
      "outputs": [],
      "source": [
        "# simple thread that read wikipedia upddates and print it in files \n",
        "# with 100 update per file\n",
        "\n",
        "#!rm -rf streaming/*\n",
        "#!mkdir streaming\n",
        "\n",
        "import uuid\n",
        "import json\n",
        "\n",
        "def read_wikipedia():\n",
        "    msgs = SSEClient('https://stream.wikimedia.org/v2/stream/recentchange')\n",
        "\n",
        "    buffer=[]\n",
        "    i=0\n",
        "    for e in msgs:\n",
        "      buffer.append(e)\n",
        "      if len(buffer)>100:\n",
        "        with open(f\"streaming/{str(uuid.uuid4())}.json\", \"w\") as outfile:\n",
        "          for m in buffer:\n",
        "            outfile.write(f\"{m}\\n\")\n",
        "          outfile.close()\n",
        "          #json.dump([ob.__dict__ for ob in buffer], outfile)\n",
        "        buffer.clear()\n",
        "        i=i+1\n",
        "        #if i>3:\n",
        "        #  return\n",
        "\n",
        "threading.Thread(target=read_wikipedia).start()\n",
        "#read_wikipedia()\n"
      ]
    },
    {
      "cell_type": "code",
      "source": [
        "# just extract the schema of a wikipedia update\n",
        "# required to populate the input table of Structured Stream\n",
        "\n",
        "import json\n",
        "\n",
        "#don't forget the r for raw string...\n",
        "data=r\"\"\"{\"$schema\":\"/mediawiki/recentchange/1.0.0\",\"meta\":{\"uri\":\"https://www.wikidata.org/wiki/Q114775139\",\"request_id\":\"31f7d9b1-12c4-4de4-bee7-fbdd8c055c4f\",\"id\":\"6580fd51-0bde-4f48-8186-8b1f202c4e14\",\"dt\":\"2022-10-20T13:20:31Z\",\"domain\":\"www.wikidata.org\",\"stream\":\"mediawiki.recentchange\",\"topic\":\"eqiad.mediawiki.recentchange\",\"partition\":0,\"offset\":4248495942},\"id\":1809138679,\"type\":\"edit\",\"namespace\":0,\"title\":\"Q114775139\",\"comment\":\"/* wbsetclaim-create:2||1 */ [[Property:P6634]]: ellen-rudnick-364a793\",\"timestamp\":1666272031,\"user\":\"Korimako\",\"bot\":false,\"minor\":false,\"patrolled\":true,\"length\":{\"old\":2211,\"new\":2575},\"revision\":{\"old\":1754930719,\"new\":1754930819},\"server_url\":\"https://www.wikidata.org\",\"server_name\":\"www.wikidata.org\",\"server_script_path\":\"/w\",\"wiki\":\"wikidatawiki\",\"parsedcomment\":\"‎<span dir=\\\"auto\\\"><span class=\\\"autocomment\\\">Created claim: </span></span> <a href=\\\"/wiki/Property:P6634\\\" title=\\\"Property:P6634\\\">Property:P6634</a>: ellen-rudnick-364a793\"}\"\"\"\n",
        "\n",
        "#don't forget to build a list ie [data]...\n",
        "rdd=spark.sparkContext.parallelize([data])\n",
        "df=spark.read.json(rdd)\n",
        "df.show()\n",
        "\n",
        "df.printSchema()\n",
        "\n",
        "#schema is computed ;)\n",
        "df.schema\n"
      ],
      "metadata": {
        "colab": {
          "base_uri": "https://localhost:8080/"
        },
        "id": "XVEvrIbWkQdg",
        "outputId": "ff5724d5-9e24-41d2-8763-6252b8aa321d"
      },
      "execution_count": 5,
      "outputs": [
        {
          "output_type": "stream",
          "name": "stdout",
          "text": [
            "+--------------------+-----+--------------------+----------+------------+--------------------+-----+---------+--------------------+---------+--------------------+----------------+------------------+--------------------+----------+----------+----+--------+------------+\n",
            "|             $schema|  bot|             comment|        id|      length|                meta|minor|namespace|       parsedcomment|patrolled|            revision|     server_name|server_script_path|          server_url| timestamp|     title|type|    user|        wiki|\n",
            "+--------------------+-----+--------------------+----------+------------+--------------------+-----+---------+--------------------+---------+--------------------+----------------+------------------+--------------------+----------+----------+----+--------+------------+\n",
            "|/mediawiki/recent...|false|/* wbsetclaim-cre...|1809138679|{2575, 2211}|{www.wikidata.org...|false|        0|‎<span dir=\"auto\"...|     true|{1754930819, 1754...|www.wikidata.org|                /w|https://www.wikid...|1666272031|Q114775139|edit|Korimako|wikidatawiki|\n",
            "+--------------------+-----+--------------------+----------+------------+--------------------+-----+---------+--------------------+---------+--------------------+----------------+------------------+--------------------+----------+----------+----+--------+------------+\n",
            "\n",
            "root\n",
            " |-- $schema: string (nullable = true)\n",
            " |-- bot: boolean (nullable = true)\n",
            " |-- comment: string (nullable = true)\n",
            " |-- id: long (nullable = true)\n",
            " |-- length: struct (nullable = true)\n",
            " |    |-- new: long (nullable = true)\n",
            " |    |-- old: long (nullable = true)\n",
            " |-- meta: struct (nullable = true)\n",
            " |    |-- domain: string (nullable = true)\n",
            " |    |-- dt: string (nullable = true)\n",
            " |    |-- id: string (nullable = true)\n",
            " |    |-- offset: long (nullable = true)\n",
            " |    |-- partition: long (nullable = true)\n",
            " |    |-- request_id: string (nullable = true)\n",
            " |    |-- stream: string (nullable = true)\n",
            " |    |-- topic: string (nullable = true)\n",
            " |    |-- uri: string (nullable = true)\n",
            " |-- minor: boolean (nullable = true)\n",
            " |-- namespace: long (nullable = true)\n",
            " |-- parsedcomment: string (nullable = true)\n",
            " |-- patrolled: boolean (nullable = true)\n",
            " |-- revision: struct (nullable = true)\n",
            " |    |-- new: long (nullable = true)\n",
            " |    |-- old: long (nullable = true)\n",
            " |-- server_name: string (nullable = true)\n",
            " |-- server_script_path: string (nullable = true)\n",
            " |-- server_url: string (nullable = true)\n",
            " |-- timestamp: long (nullable = true)\n",
            " |-- title: string (nullable = true)\n",
            " |-- type: string (nullable = true)\n",
            " |-- user: string (nullable = true)\n",
            " |-- wiki: string (nullable = true)\n",
            "\n"
          ]
        },
        {
          "output_type": "execute_result",
          "data": {
            "text/plain": [
              "StructType([StructField('$schema', StringType(), True), StructField('bot', BooleanType(), True), StructField('comment', StringType(), True), StructField('id', LongType(), True), StructField('length', StructType([StructField('new', LongType(), True), StructField('old', LongType(), True)]), True), StructField('meta', StructType([StructField('domain', StringType(), True), StructField('dt', StringType(), True), StructField('id', StringType(), True), StructField('offset', LongType(), True), StructField('partition', LongType(), True), StructField('request_id', StringType(), True), StructField('stream', StringType(), True), StructField('topic', StringType(), True), StructField('uri', StringType(), True)]), True), StructField('minor', BooleanType(), True), StructField('namespace', LongType(), True), StructField('parsedcomment', StringType(), True), StructField('patrolled', BooleanType(), True), StructField('revision', StructType([StructField('new', LongType(), True), StructField('old', LongType(), True)]), True), StructField('server_name', StringType(), True), StructField('server_script_path', StringType(), True), StructField('server_url', StringType(), True), StructField('timestamp', LongType(), True), StructField('title', StringType(), True), StructField('type', StringType(), True), StructField('user', StringType(), True), StructField('wiki', StringType(), True)])"
            ]
          },
          "metadata": {},
          "execution_count": 5
        }
      ]
    },
    {
      "cell_type": "markdown",
      "metadata": {
        "deletable": true,
        "editable": true,
        "id": "-Gu0uTq0kjLW"
      },
      "source": [
        "## Streaming analysis\n",
        "\n",
        "Now that we have our stream relay set up, we can start to analyse its contents. First, let's initialise a [`SparkContext`](https://spark.apache.org/docs/2.1.0/api/python/pyspark.html#pyspark.SparkContext) object, which will represent our connection to the Spark cluster. To do this, we must first specify the URL of the master node to connect to. As we're only running this notebook for demonstration purposes, we can just run the cluster locally, as follows:"
      ]
    },
    {
      "cell_type": "markdown",
      "metadata": {
        "id": "jUReqTXukjLX"
      },
      "source": [
        "Next, we create a [`StreamingContext`](https://spark.apache.org/docs/latest/api/python/pyspark.streaming.html#pyspark.streaming.StreamingContext) object, which represents the streaming functionality of our Spark cluster. When we create the context, we must specify a batch duration time (in seconds), to tell Spark how often it should process data from the stream. Let's process the Wikipedia data in batches of one second:"
      ]
    },
    {
      "cell_type": "code",
      "source": [
        "# stopping all active queries\n",
        "# you will understand ;-)\n",
        "for q in spark.streams.active:\n",
        "  print(\"stopping\",q.name)\n",
        "  q.stop()\n",
        "spark.sql(f\"drop table wikipedia\")"
      ],
      "metadata": {
        "colab": {
          "base_uri": "https://localhost:8080/",
          "height": 387
        },
        "id": "680b6l8tDozg",
        "outputId": "3f3d3182-9960-4fe4-e029-0fa00f62e224"
      },
      "execution_count": null,
      "outputs": [
        {
          "output_type": "error",
          "ename": "AnalysisException",
          "evalue": "ignored",
          "traceback": [
            "\u001b[0;31m---------------------------------------------------------------------------\u001b[0m",
            "\u001b[0;31mAnalysisException\u001b[0m                         Traceback (most recent call last)",
            "\u001b[0;32m<ipython-input-17-5130eebb2f7f>\u001b[0m in \u001b[0;36m<module>\u001b[0;34m\u001b[0m\n\u001b[1;32m      4\u001b[0m   \u001b[0mprint\u001b[0m\u001b[0;34m(\u001b[0m\u001b[0;34m\"stopping\"\u001b[0m\u001b[0;34m,\u001b[0m\u001b[0mq\u001b[0m\u001b[0;34m.\u001b[0m\u001b[0mname\u001b[0m\u001b[0;34m)\u001b[0m\u001b[0;34m\u001b[0m\u001b[0;34m\u001b[0m\u001b[0m\n\u001b[1;32m      5\u001b[0m   \u001b[0mq\u001b[0m\u001b[0;34m.\u001b[0m\u001b[0mstop\u001b[0m\u001b[0;34m(\u001b[0m\u001b[0;34m)\u001b[0m\u001b[0;34m\u001b[0m\u001b[0;34m\u001b[0m\u001b[0m\n\u001b[0;32m----> 6\u001b[0;31m \u001b[0mspark\u001b[0m\u001b[0;34m.\u001b[0m\u001b[0msql\u001b[0m\u001b[0;34m(\u001b[0m\u001b[0;34mf\"drop table wikipedia\"\u001b[0m\u001b[0;34m)\u001b[0m\u001b[0;34m\u001b[0m\u001b[0;34m\u001b[0m\u001b[0m\n\u001b[0m",
            "\u001b[0;32m/usr/local/lib/python3.7/dist-packages/pyspark/sql/session.py\u001b[0m in \u001b[0;36msql\u001b[0;34m(self, sqlQuery, **kwargs)\u001b[0m\n\u001b[1;32m   1032\u001b[0m             \u001b[0msqlQuery\u001b[0m \u001b[0;34m=\u001b[0m \u001b[0mformatter\u001b[0m\u001b[0;34m.\u001b[0m\u001b[0mformat\u001b[0m\u001b[0;34m(\u001b[0m\u001b[0msqlQuery\u001b[0m\u001b[0;34m,\u001b[0m \u001b[0;34m**\u001b[0m\u001b[0mkwargs\u001b[0m\u001b[0;34m)\u001b[0m\u001b[0;34m\u001b[0m\u001b[0;34m\u001b[0m\u001b[0m\n\u001b[1;32m   1033\u001b[0m         \u001b[0;32mtry\u001b[0m\u001b[0;34m:\u001b[0m\u001b[0;34m\u001b[0m\u001b[0;34m\u001b[0m\u001b[0m\n\u001b[0;32m-> 1034\u001b[0;31m             \u001b[0;32mreturn\u001b[0m \u001b[0mDataFrame\u001b[0m\u001b[0;34m(\u001b[0m\u001b[0mself\u001b[0m\u001b[0;34m.\u001b[0m\u001b[0m_jsparkSession\u001b[0m\u001b[0;34m.\u001b[0m\u001b[0msql\u001b[0m\u001b[0;34m(\u001b[0m\u001b[0msqlQuery\u001b[0m\u001b[0;34m)\u001b[0m\u001b[0;34m,\u001b[0m \u001b[0mself\u001b[0m\u001b[0;34m)\u001b[0m\u001b[0;34m\u001b[0m\u001b[0;34m\u001b[0m\u001b[0m\n\u001b[0m\u001b[1;32m   1035\u001b[0m         \u001b[0;32mfinally\u001b[0m\u001b[0;34m:\u001b[0m\u001b[0;34m\u001b[0m\u001b[0;34m\u001b[0m\u001b[0m\n\u001b[1;32m   1036\u001b[0m             \u001b[0;32mif\u001b[0m \u001b[0mlen\u001b[0m\u001b[0;34m(\u001b[0m\u001b[0mkwargs\u001b[0m\u001b[0;34m)\u001b[0m \u001b[0;34m>\u001b[0m \u001b[0;36m0\u001b[0m\u001b[0;34m:\u001b[0m\u001b[0;34m\u001b[0m\u001b[0;34m\u001b[0m\u001b[0m\n",
            "\u001b[0;32m/usr/local/lib/python3.7/dist-packages/py4j/java_gateway.py\u001b[0m in \u001b[0;36m__call__\u001b[0;34m(self, *args)\u001b[0m\n\u001b[1;32m   1320\u001b[0m         \u001b[0manswer\u001b[0m \u001b[0;34m=\u001b[0m \u001b[0mself\u001b[0m\u001b[0;34m.\u001b[0m\u001b[0mgateway_client\u001b[0m\u001b[0;34m.\u001b[0m\u001b[0msend_command\u001b[0m\u001b[0;34m(\u001b[0m\u001b[0mcommand\u001b[0m\u001b[0;34m)\u001b[0m\u001b[0;34m\u001b[0m\u001b[0;34m\u001b[0m\u001b[0m\n\u001b[1;32m   1321\u001b[0m         return_value = get_return_value(\n\u001b[0;32m-> 1322\u001b[0;31m             answer, self.gateway_client, self.target_id, self.name)\n\u001b[0m\u001b[1;32m   1323\u001b[0m \u001b[0;34m\u001b[0m\u001b[0m\n\u001b[1;32m   1324\u001b[0m         \u001b[0;32mfor\u001b[0m \u001b[0mtemp_arg\u001b[0m \u001b[0;32min\u001b[0m \u001b[0mtemp_args\u001b[0m\u001b[0;34m:\u001b[0m\u001b[0;34m\u001b[0m\u001b[0;34m\u001b[0m\u001b[0m\n",
            "\u001b[0;32m/usr/local/lib/python3.7/dist-packages/pyspark/sql/utils.py\u001b[0m in \u001b[0;36mdeco\u001b[0;34m(*a, **kw)\u001b[0m\n\u001b[1;32m    194\u001b[0m                 \u001b[0;31m# Hide where the exception came from that shows a non-Pythonic\u001b[0m\u001b[0;34m\u001b[0m\u001b[0;34m\u001b[0m\u001b[0;34m\u001b[0m\u001b[0m\n\u001b[1;32m    195\u001b[0m                 \u001b[0;31m# JVM exception message.\u001b[0m\u001b[0;34m\u001b[0m\u001b[0;34m\u001b[0m\u001b[0;34m\u001b[0m\u001b[0m\n\u001b[0;32m--> 196\u001b[0;31m                 \u001b[0;32mraise\u001b[0m \u001b[0mconverted\u001b[0m \u001b[0;32mfrom\u001b[0m \u001b[0;32mNone\u001b[0m\u001b[0;34m\u001b[0m\u001b[0;34m\u001b[0m\u001b[0m\n\u001b[0m\u001b[1;32m    197\u001b[0m             \u001b[0;32melse\u001b[0m\u001b[0;34m:\u001b[0m\u001b[0;34m\u001b[0m\u001b[0;34m\u001b[0m\u001b[0m\n\u001b[1;32m    198\u001b[0m                 \u001b[0;32mraise\u001b[0m\u001b[0;34m\u001b[0m\u001b[0;34m\u001b[0m\u001b[0m\n",
            "\u001b[0;31mAnalysisException\u001b[0m: Table or view not found: wikipedia; line 1 pos 11;\n'DropTable false, false\n+- 'UnresolvedTableOrView [wikipedia], DROP TABLE, true\n"
          ]
        }
      ]
    },
    {
      "cell_type": "code",
      "execution_count": 7,
      "metadata": {
        "collapsed": true,
        "id": "eksoAKgzkjLY",
        "colab": {
          "base_uri": "https://localhost:8080/"
        },
        "outputId": "1c2a36db-2380-4c93-cf34-0a35ec3839ba"
      },
      "outputs": [
        {
          "output_type": "stream",
          "name": "stdout",
          "text": [
            "True\n"
          ]
        }
      ],
      "source": [
        "!mkdir streaming\n",
        "lines = spark \\\n",
        "    .readStream \\\n",
        "    .option(\"cleanSource\",\"delete\") \\\n",
        "    .format(\"json\") \\\n",
        "    .schema(df.schema) \\\n",
        "    .load(\"streaming\") \\\n",
        "\n",
        "results=lines.groupBy(\"user\").count()\n",
        "\n",
        "query = results \\\n",
        "    .writeStream \\\n",
        "    .outputMode(\"complete\") \\\n",
        "    .format(\"memory\") \\\n",
        "    .option(\"cleanSource\",\"delete\") \\\n",
        "    .queryName(\"wikipedia\") \\\n",
        "    .start()\n",
        "\n",
        "#query.awaitTermination()\n",
        "print(query.isActive)"
      ]
    },
    {
      "cell_type": "code",
      "source": [
        "spark.sql(\"select * from wikipedia order by count DESC\").show(30)\n",
        "spark.sql(\"select count(*) from wikipedia\").show()\n",
        "\n",
        "#!cp test.json streaming"
      ],
      "metadata": {
        "colab": {
          "base_uri": "https://localhost:8080/"
        },
        "id": "uxV03J2XzcDc",
        "outputId": "78948e09-3022-4341-d82f-0f456d7541a4"
      },
      "execution_count": 43,
      "outputs": [
        {
          "output_type": "stream",
          "name": "stdout",
          "text": [
            "+--------------------+-----+\n",
            "|                user|count|\n",
            "+--------------------+-----+\n",
            "|             AskeBot| 2792|\n",
            "|      VladimirPF-Bot| 1350|\n",
            "|              Cewbot| 1296|\n",
            "|             Liridon| 1254|\n",
            "|            Renamerr| 1226|\n",
            "|       SchlurcherBot| 1205|\n",
            "|             Gbawden| 1100|\n",
            "|             CennoxX|  906|\n",
            "|             QBA-bot|  869|\n",
            "|      BotMultichillT|  796|\n",
            "|         W like wiki|  752|\n",
            "|        MalnadachBot|  446|\n",
            "|        BOT-Twm Crys|  442|\n",
            "|  InternetArchiveBot|  307|\n",
            "|AliciaFagervingWM...|  221|\n",
            "|       Hornstrandir1|  175|\n",
            "|  Holger Uwe Schmitt|  156|\n",
            "|    Cryptic-waveform|  139|\n",
            "|         Dinkun Chen|  132|\n",
            "|            Luicheto|  129|\n",
            "|                Coen|  115|\n",
            "|            جار الله|  111|\n",
            "|      MubasherKaleem|  103|\n",
            "|       SSoster (WMB)|  100|\n",
            "|             DimaBot|   86|\n",
            "|       Mr.Ibrahembot|   78|\n",
            "|          Argo Navis|   77|\n",
            "|      Hotaru Natsumi|   72|\n",
            "|         Davidbazoki|   70|\n",
            "|            Gymnicus|   68|\n",
            "+--------------------+-----+\n",
            "only showing top 30 rows\n",
            "\n",
            "+--------+\n",
            "|count(1)|\n",
            "+--------+\n",
            "|    2439|\n",
            "+--------+\n",
            "\n"
          ]
        }
      ]
    },
    {
      "cell_type": "code",
      "source": [
        "human=lines.filter(\"bot=false\").groupBy(\"user\").count()\n",
        "\n",
        "humanq = human \\\n",
        "    .writeStream \\\n",
        "    .outputMode(\"complete\") \\\n",
        "    .format(\"memory\") \\\n",
        "    .option(\"cleanSource\",\"delete\") \\\n",
        "    .queryName(\"human\") \\\n",
        "    .start()\n",
        "\n",
        "#query.awaitTermination()\n",
        "print(humanq.isActive)"
      ],
      "metadata": {
        "id": "c_vhD04tkaxE",
        "outputId": "91671fb2-7f67-48c6-ae5d-bce81162fa2f",
        "colab": {
          "base_uri": "https://localhost:8080/"
        }
      },
      "execution_count": 38,
      "outputs": [
        {
          "output_type": "stream",
          "name": "stdout",
          "text": [
            "True\n"
          ]
        }
      ]
    },
    {
      "cell_type": "code",
      "source": [
        "spark.sql(\"select * from human order by count desc\").show(30)\n",
        "spark.sql(\"select count(*) from human\").show()"
      ],
      "metadata": {
        "id": "W2QpThCilG51",
        "outputId": "c6d8cc1c-66a0-44c7-abfb-8217dadd9da6",
        "colab": {
          "base_uri": "https://localhost:8080/"
        }
      },
      "execution_count": 42,
      "outputs": [
        {
          "output_type": "stream",
          "name": "stdout",
          "text": [
            "+-------------------+-----+\n",
            "|               user|count|\n",
            "+-------------------+-----+\n",
            "|            Liridon|  629|\n",
            "|           Renamerr|  533|\n",
            "|               YoaR|  505|\n",
            "|         Infovarius|  470|\n",
            "|            CennoxX|  465|\n",
            "|      Hornstrandir1|  142|\n",
            "|         EN-Jungwon|  128|\n",
            "|Veronika.kasparkova|  116|\n",
            "|           Haoreima|  111|\n",
            "|               Coen|   94|\n",
            "|     Ooswesthoesbes|   91|\n",
            "|             Taketa|   80|\n",
            "|             AndreA|   74|\n",
            "|            Gbawden|   64|\n",
            "|            Ipigott|   58|\n",
            "|  Baokowm 225 Winez|   56|\n",
            "|           אוריאל כ|   50|\n",
            "|      SSoster (WMB)|   50|\n",
            "|          BadzilBot|   46|\n",
            "|   Simon Villeneuve|   44|\n",
            "|            XxakixX|   44|\n",
            "|         Kshetunsky|   43|\n",
            "|            Moebeus|   42|\n",
            "|           Maltaper|   42|\n",
            "|          Rudolfo42|   42|\n",
            "|           AnRo0002|   40|\n",
            "|           Nodokara|   39|\n",
            "|       Huangdan2060|   38|\n",
            "|              鐵路1|   38|\n",
            "|    Hey man im josh|   36|\n",
            "+-------------------+-----+\n",
            "only showing top 30 rows\n",
            "\n",
            "+--------+\n",
            "|count(1)|\n",
            "+--------+\n",
            "|    1517|\n",
            "+--------+\n",
            "\n"
          ]
        }
      ]
    },
    {
      "cell_type": "code",
      "source": [
        "vladimir=lines.select(\"meta\").filter(\"user='VladimirPF-Bot'\")\n",
        "\n",
        "vq = vladimir \\\n",
        "    .writeStream \\\n",
        "    .outputMode(\"append\") \\\n",
        "    .format(\"memory\") \\\n",
        "    .option(\"cleanSource\",\"delete\") \\\n",
        "    .queryName(\"vlad\") \\\n",
        "    .start()\n",
        "\n",
        "#query.awaitTermination()\n",
        "print(vq.isActive)"
      ],
      "metadata": {
        "id": "OaAwxzlsfJ5d",
        "outputId": "273adde9-49e9-44ea-8417-ec16bb20cf86",
        "colab": {
          "base_uri": "https://localhost:8080/"
        }
      },
      "execution_count": 31,
      "outputs": [
        {
          "output_type": "stream",
          "name": "stdout",
          "text": [
            "True\n"
          ]
        }
      ]
    },
    {
      "cell_type": "code",
      "source": [
        "vq.stop()\n",
        "print(vq.isActive)"
      ],
      "metadata": {
        "id": "RNeXNvn_iW13",
        "outputId": "2e7c43fa-f40d-41ad-dc4c-fbf689789664",
        "colab": {
          "base_uri": "https://localhost:8080/"
        }
      },
      "execution_count": 37,
      "outputs": [
        {
          "output_type": "stream",
          "name": "stdout",
          "text": [
            "False\n"
          ]
        }
      ]
    },
    {
      "cell_type": "code",
      "source": [
        "spark.sql(\"select * from vlad\").show(truncate=1024)\n",
        "spark.sql(\"select count(*) from vlad\").show()"
      ],
      "metadata": {
        "id": "snrpB3cghIKG",
        "outputId": "e667334e-e422-4774-833a-9c6bc4efb721",
        "colab": {
          "base_uri": "https://localhost:8080/"
        }
      },
      "execution_count": 35,
      "outputs": [
        {
          "output_type": "stream",
          "name": "stdout",
          "text": [
            "+----------------------------------------------------------------------------------------------------------------------------------------------------------------------------------------------------------------------------------------------------------------------------------------------------------------------------------------------------------------------------------------------------------------------------------------------------------------------------------------------------------------------------------------------------------------------------------------------------------------------------------------------------------------------------------------------------------------------------------------------------------------------------------------------------------------------------------------------------------------------------------------------------+\n",
            "|                                                                                                                                                                                                                                                                                                                                                                                                                                                                                                                                                                                                                                                                                                                                                                                                                                                                                                meta|\n",
            "+----------------------------------------------------------------------------------------------------------------------------------------------------------------------------------------------------------------------------------------------------------------------------------------------------------------------------------------------------------------------------------------------------------------------------------------------------------------------------------------------------------------------------------------------------------------------------------------------------------------------------------------------------------------------------------------------------------------------------------------------------------------------------------------------------------------------------------------------------------------------------------------------------+\n",
            "|                                                                                                                                                                                                                                                                                                                                  {ru.wikinews.org, 2022-10-27T13:02:45Z, 60a8ae21-2349-44dd-9bf6-8545f4c5baab, 4264506236, 0, 6b54bf10-e0c8-4aa1-8fff-db368ad0b7c6, mediawiki.recentchange, eqiad.mediawiki.recentchange, https://ru.wikinews.org/wiki/%C2%AB%D0%AF%D0%BD%D0%B4%D0%B5%D0%BA%D1%81%C2%BB_%D1%80%D0%B0%D0%B7%D1%80%D0%B5%D1%88%D0%B8%D0%BB_%D1%81%D0%BE%D1%82%D1%80%D1%83%D0%B4%D0%BD%D0%B8%D0%BA%D0%B0%D0%BC_%D1%80%D0%B0%D0%B1%D0%BE%D1%82%D0%B0%D1%82%D1%8C_%D1%83%D0%B4%D0%B0%D0%BB%D0%B5%D0%BD%D0%BD%D0%BE_%D0%B4%D0%BE_%D0%BA%D0%BE%D0%BD%D1%86%D0%B0_%D0%BB%D0%B5%D1%82%D0%B0}|\n",
            "|                                                                                                                                                                                                                                                                                                                                                                                                                                                                                                                          {ru.wikinews.org, 2022-10-27T13:02:45Z, 74bcd5fb-c68f-440f-8727-abcde3dcac78, 4264506248, 0, 22ac555a-7ea2-435a-8f1d-57dff09b36dc, mediawiki.recentchange, eqiad.mediawiki.recentchange, https://ru.wikinews.org/wiki/%D0%9A%D0%B0%D1%82%D0%B5%D0%B3%D0%BE%D1%80%D0%B8%D1%8F:%D0%A0%D0%BE%D1%81%D1%81%D0%B8%D1%8F_%D0%B2_%D0%BC%D0%B0%D0%B5_2020_%D0%B3%D0%BE%D0%B4%D0%B0}|\n",
            "|                                                                                                                                                                                                                                                                                                                                                                                                                                                                                                                          {ru.wikinews.org, 2022-10-27T13:02:45Z, 2922d945-c509-4291-97a0-d50a08cf2a16, 4264506251, 0, 6b54bf10-e0c8-4aa1-8fff-db368ad0b7c6, mediawiki.recentchange, eqiad.mediawiki.recentchange, https://ru.wikinews.org/wiki/%D0%9A%D0%B0%D1%82%D0%B5%D0%B3%D0%BE%D1%80%D0%B8%D1%8F:%D0%A0%D0%BE%D1%81%D1%81%D0%B8%D1%8F_%D0%B2_%D0%BC%D0%B0%D0%B5_2020_%D0%B3%D0%BE%D0%B4%D0%B0}|\n",
            "|                                                                                                                                                                                                                                                                                                                                                                                                                 {ru.wikinews.org, 2022-10-27T13:02:46Z, dd8f1710-bd50-4981-889e-c734a9aefa6d, 4264506255, 0, 24ec234c-4f6c-4ba1-ab0b-31f3225fa3dd, mediawiki.recentchange, eqiad.mediawiki.recentchange, https://ru.wikinews.org/wiki/%D0%A7%D1%82%D0%BE_%D1%81%D0%BA%D0%B0%D0%B7%D0%B0%D0%BB_%D0%9F%D1%83%D1%82%D0%B8%D0%BD_%D0%B2_%D0%BE%D0%B1%D1%80%D0%B0%D1%89%D0%B5%D0%BD%D0%B8%D0%B8_6_%D0%BC%D0%B0%D1%8F_2020_%D0%B3%D0%BE%D0%B4%D0%B0_%E2%80%94_%D0%B3%D0%BB%D0%B0%D0%B2%D0%BD%D0%BE%D0%B5}|\n",
            "|                                                                                                                                                                                                                                                                                                                                                                                                                                                                                                                          {ru.wikinews.org, 2022-10-27T13:02:46Z, 29389833-8b89-4457-a7c9-41a5c05ff170, 4264506274, 0, 24ec234c-4f6c-4ba1-ab0b-31f3225fa3dd, mediawiki.recentchange, eqiad.mediawiki.recentchange, https://ru.wikinews.org/wiki/%D0%9A%D0%B0%D1%82%D0%B5%D0%B3%D0%BE%D1%80%D0%B8%D1%8F:%D0%A0%D0%BE%D1%81%D1%81%D0%B8%D1%8F_%D0%B2_%D0%BC%D0%B0%D0%B5_2020_%D0%B3%D0%BE%D0%B4%D0%B0}|\n",
            "|                                                                                                                                                                                                                                                {ru.wikinews.org, 2022-10-27T13:02:48Z, 4ec745ba-8b90-49db-8cd9-d10423475e07, 4264506322, 0, 2a2f5df3-cb08-4b9a-b88b-48c756b1cf99, mediawiki.recentchange, eqiad.mediawiki.recentchange, https://ru.wikinews.org/wiki/%D0%98%D1%81%D1%82%D0%BE%D1%87%D0%BD%D0%B8%D0%BA:_%D0%A0%D0%B5%D1%88%D0%B5%D0%BD%D0%B8%D0%B5_%D0%BF%D0%BE_%D0%BF%D0%BE%D0%B2%D0%BE%D0%B4%D1%83_%D1%83%D0%B2%D0%BE%D0%BB%D1%8C%D0%BD%D0%B5%D0%BD%D0%B8%D1%8F_%D0%A1%D0%B5%D0%BC%D0%B8%D0%BD%D0%B0_%D0%BF%D1%80%D0%B8%D0%BC%D0%B5%D1%82_%D0%BB%D0%B8%D1%87%D0%BD%D0%BE_%D0%B3%D0%BB%D0%B0%D0%B2%D0%B0_%D0%A0%D0%96%D0%94_%D0%91%D0%B5%D0%BB%D0%BE%D0%B7%D0%B5%D1%80%D0%BE%D0%B2}|\n",
            "|                                                                                                                                                                                                                                                                                                                                                                                                                                                                                                                          {ru.wikinews.org, 2022-10-27T13:02:30Z, f9617bdc-e05d-48e1-b193-983ece40ad73, 4264506067, 0, b55321c9-759f-402e-bb04-3233f04b7563, mediawiki.recentchange, eqiad.mediawiki.recentchange, https://ru.wikinews.org/wiki/%D0%9A%D0%B0%D1%82%D0%B5%D0%B3%D0%BE%D1%80%D0%B8%D1%8F:%D0%A0%D0%BE%D1%81%D1%81%D0%B8%D1%8F_%D0%B2_%D0%BC%D0%B0%D0%B5_2020_%D0%B3%D0%BE%D0%B4%D0%B0}|\n",
            "|                                                                                                                                                                                                                                                                        {ru.wikinews.org, 2022-10-27T13:02:43Z, 88de6303-af28-468c-8a71-ff1bf41ada5a, 4264506151, 0, 7aa60f9b-c1d1-4f01-a9df-9b865857fb19, mediawiki.recentchange, eqiad.mediawiki.recentchange, https://ru.wikinews.org/wiki/%D0%98%D1%81%D1%82%D0%BE%D1%87%D0%BD%D0%B8%D0%BA:_%D0%A0%D0%B0%D0%BC%D0%B7%D0%B0%D0%BD_%D0%9A%D0%B0%D0%B4%D1%8B%D1%80%D0%BE%D0%B2_%D0%BD%D0%B0%D1%85%D0%BE%D0%B4%D0%B8%D1%82%D1%81%D1%8F_%D0%B2_%D1%82%D1%8F%D0%B6%D0%B5%D0%BB%D0%BE%D0%BC_%D1%81%D0%BE%D1%81%D1%82%D0%BE%D1%8F%D0%BD%D0%B8%D0%B8._%D0%A3_%D0%BD%D0%B5%D0%B3%D0%BE_%D0%BA%D0%BE%D1%80%D0%BE%D0%BD%D0%B0%D0%B2%D0%B8%D1%80%D1%83%D1%81}|\n",
            "|                                                                                                                                                                                                                                                                                                                                                                                                                                                                                                                          {ru.wikinews.org, 2022-10-27T13:02:43Z, bd9933f9-5fca-4cfd-be95-8bbc3b05e56f, 4264506167, 0, 7aa60f9b-c1d1-4f01-a9df-9b865857fb19, mediawiki.recentchange, eqiad.mediawiki.recentchange, https://ru.wikinews.org/wiki/%D0%9A%D0%B0%D1%82%D0%B5%D0%B3%D0%BE%D1%80%D0%B8%D1%8F:%D0%A0%D0%BE%D1%81%D1%81%D0%B8%D1%8F_%D0%B2_%D0%BC%D0%B0%D0%B5_2020_%D0%B3%D0%BE%D0%B4%D0%B0}|\n",
            "|{ru.wikinews.org, 2022-10-27T13:02:45Z, 71a1dcfb-df74-470b-bd4e-4eae76b9ab35, 4264506229, 0, 22ac555a-7ea2-435a-8f1d-57dff09b36dc, mediawiki.recentchange, eqiad.mediawiki.recentchange, https://ru.wikinews.org/wiki/%D0%A1_18_%D0%BC%D0%B0%D1%8F_%D0%BA_%D0%BE%D0%B1%D1%81%D0%BB%D1%83%D0%B6%D0%B8%D0%B2%D0%B0%D0%BD%D0%B8%D1%8E_%D0%BA%D0%BB%D0%B8%D0%B5%D0%BD%D1%82%D0%BE%D0%B2_%D1%81%D0%BC%D0%BE%D0%B3%D1%83%D1%82_%D0%B2%D0%B5%D1%80%D0%BD%D1%83%D1%82%D1%8C%D1%81%D1%8F_%D0%BF%D1%80%D0%B5%D0%B4%D0%BF%D1%80%D0%B8%D1%8F%D1%82%D0%B8%D1%8F,_%D0%BE%D1%81%D1%83%D1%89%D0%B5%D1%81%D1%82%D0%B2%D0%BB%D1%8F%D1%8E%D1%89%D0%B8%D0%B5_%D1%80%D0%B5%D0%BC%D0%BE%D0%BD%D1%82_%D0%B8_%D1%82%D0%B5%D1%85%D0%BE%D0%B1%D1%81%D0%BB%D1%83%D0%B6%D0%B8%D0%B2%D0%B0%D0%BD%D0%B8%D0%B5_%D1%82%D1%80%D0%B0%D0%BD%D1%81%D0%BF%D0%BE%D1%80%D1%82%D0%BD%D1%8B%D1%85_%D1%81%D1%80%D0%B5%D0%B4%D1%81%D1%82%D0%B2}|\n",
            "|                                                                                                                                                                                                                                                     {ru.wikinews.org, 2022-10-27T13:02:50Z, da309732-07a1-41f2-8bd4-df2996a6cbb3, 4264506370, 0, cfeb50c1-f078-4caa-b1ff-84d7f88aae99, mediawiki.recentchange, eqiad.mediawiki.recentchange, https://ru.wikinews.org/wiki/%D0%A1_6_%D0%BC%D0%B0%D1%8F_%D0%B2_%D0%9C%D0%BE%D1%81%D0%BA%D0%B2%D0%B5_%D1%87%D0%B0%D1%81%D1%82%D0%B8%D1%87%D0%BD%D0%BE_%D0%B2%D0%BE%D0%B7%D0%BE%D0%B1%D0%BD%D0%BE%D0%B2%D1%8F%D1%82%D1%81%D1%8F_%D0%BF%D1%80%D0%B8%D0%BE%D1%81%D1%82%D0%B0%D0%BD%D0%BE%D0%B2%D0%BB%D0%B5%D0%BD%D0%BD%D1%8B%D0%B5_%D0%B8%D0%B7-%D0%B7%D0%B0_%D1%8D%D0%BF%D0%B8%D0%B4%D0%B5%D0%BC%D0%B8%D0%B8_%D1%81%D1%82%D1%80%D0%BE%D0%B9%D0%BA%D0%B8}|\n",
            "|                                                                                                                                                                                                                                                                                                                                                                                                                                                                                                                          {ru.wikinews.org, 2022-10-27T13:02:50Z, 3ba86151-2741-4aa4-9146-bbfe49538143, 4264506375, 0, cfeb50c1-f078-4caa-b1ff-84d7f88aae99, mediawiki.recentchange, eqiad.mediawiki.recentchange, https://ru.wikinews.org/wiki/%D0%9A%D0%B0%D1%82%D0%B5%D0%B3%D0%BE%D1%80%D0%B8%D1%8F:%D0%A0%D0%BE%D1%81%D1%81%D0%B8%D1%8F_%D0%B2_%D0%BC%D0%B0%D0%B5_2020_%D0%B3%D0%BE%D0%B4%D0%B0}|\n",
            "|                                                                                                                                                                                   {ru.wikinews.org, 2022-10-27T13:02:51Z, bf0a405e-4fab-4153-92e9-0119200da808, 4264506386, 0, 15c98a90-c3d9-4698-a306-c0dac87ae863, mediawiki.recentchange, eqiad.mediawiki.recentchange, https://ru.wikinews.org/wiki/%C2%AB%D0%AF%D0%B2%D0%BD%D1%8B%D0%B5_%D1%81%D0%B8%D0%BC%D0%BF%D1%82%D0%BE%D0%BC%D1%8B_%D0%B3%D0%BE%D1%80%D1%8F%D1%87%D0%BA%D0%B8._%D0%A1%D1%80%D0%BE%D1%87%D0%BD%D0%BE_%D0%B4%D0%BE%D0%BA%D1%82%D0%BE%D1%80%D0%B0%C2%BB._%D0%93%D0%B5%D1%80%D0%BA%D1%83%D1%81_%D0%BE%D1%82%D1%80%D0%B5%D0%B0%D0%B3%D0%B8%D1%80%D0%BE%D0%B2%D0%B0%D0%BB_%D0%BD%D0%B0_%D1%81%D0%BB%D0%BE%D0%B2%D0%B0_%D0%B4%D0%B5%D0%BF%D1%83%D1%82%D0%B0%D1%82%D0%B0_%D0%9F%D0%BB%D0%B5%D1%82%D0%BD%D0%B5%D0%B2%D0%BE%D0%B9}|\n",
            "|                                                                                                                                                                                                                                                                                                                                                                                                                                                                                                                          {ru.wikinews.org, 2022-10-27T13:02:51Z, 08880587-e13b-4e54-b843-e94e257e56a6, 4264506398, 0, 15c98a90-c3d9-4698-a306-c0dac87ae863, mediawiki.recentchange, eqiad.mediawiki.recentchange, https://ru.wikinews.org/wiki/%D0%9A%D0%B0%D1%82%D0%B5%D0%B3%D0%BE%D1%80%D0%B8%D1%8F:%D0%A0%D0%BE%D1%81%D1%81%D0%B8%D1%8F_%D0%B2_%D0%BC%D0%B0%D0%B5_2020_%D0%B3%D0%BE%D0%B4%D0%B0}|\n",
            "|                                                                                                                                                                                                                                                                                                                                                                                                                                                                                   {ru.wikinews.org, 2022-10-27T13:02:52Z, 50627565-df14-4d04-906c-5f59004a6ef4, 4264506415, 0, a39c8f77-556f-494f-907f-97beaccae240, mediawiki.recentchange, eqiad.mediawiki.recentchange, https://ru.wikinews.org/wiki/%D0%A7%D1%82%D0%BE_%D1%82%D0%B0%D0%BA%D0%BE%D0%B5_%D0%BC%D0%B0%D1%81%D0%BA%D1%83%D0%BB%D0%B8%D0%B7%D0%BC_%D0%B8_%D0%B7%D0%B0%D1%87%D0%B5%D0%BC_%D0%BE%D0%BD_%D0%BD%D1%83%D0%B6%D0%B5%D0%BD}|\n",
            "|                                                                                                                                                                                                                                                                                                                                                                                                                                                                                                                          {ru.wikinews.org, 2022-10-27T13:02:52Z, ff638b22-260f-4232-8ad3-8168c96b91d0, 4264506426, 0, a39c8f77-556f-494f-907f-97beaccae240, mediawiki.recentchange, eqiad.mediawiki.recentchange, https://ru.wikinews.org/wiki/%D0%9A%D0%B0%D1%82%D0%B5%D0%B3%D0%BE%D1%80%D0%B8%D1%8F:%D0%A0%D0%BE%D1%81%D1%81%D0%B8%D1%8F_%D0%B2_%D0%BC%D0%B0%D0%B5_2020_%D0%B3%D0%BE%D0%B4%D0%B0}|\n",
            "|                                                                                                                                                                                            {ru.wikinews.org, 2022-10-27T13:02:53Z, 46e98be2-182f-48ec-b41c-f7399728c51c, 4264506438, 0, 478cfdee-ad9b-4169-8bad-ad52beae3d24, mediawiki.recentchange, eqiad.mediawiki.recentchange, https://ru.wikinews.org/wiki/%D0%98%D1%81%D1%82%D0%BE%D1%87%D0%BD%D0%B8%D0%BA:_%D0%A1%D0%BC%D0%BE%D0%BB%D0%BE%D0%B2_%D1%81%D0%BA%D0%B0%D0%B7%D0%B0%D0%BB_%D0%B0%D0%B3%D0%B5%D0%BD%D1%82%D1%83,_%D1%87%D1%82%D0%BE_%D0%BD%D0%B5_%D1%85%D0%BE%D1%87%D0%B5%D1%82_%D0%B2%D0%BE%D0%B7%D0%B2%D1%80%D0%B0%D1%89%D0%B0%D1%82%D1%8C%D1%81%D1%8F_%D0%B2_%D0%A0%D0%BE%D1%81%D1%81%D0%B8%D1%8E_%D0%BF%D0%BE%D1%81%D0%BB%D0%B5_%D0%B0%D1%80%D0%B5%D0%BD%D0%B4%D1%8B_%D0%B2_%C2%AB%D0%A1%D0%B5%D0%BB%D1%8C%D1%82%D0%B5%C2%BB}|\n",
            "|                                                                                                                                                                                                                                                                                                                                                                                                                                                                                                                          {ru.wikinews.org, 2022-10-27T13:02:53Z, c86bd6e7-e1ee-4281-b6a6-9d4b19325a0b, 4264506443, 0, 478cfdee-ad9b-4169-8bad-ad52beae3d24, mediawiki.recentchange, eqiad.mediawiki.recentchange, https://ru.wikinews.org/wiki/%D0%9A%D0%B0%D1%82%D0%B5%D0%B3%D0%BE%D1%80%D0%B8%D1%8F:%D0%A0%D0%BE%D1%81%D1%81%D0%B8%D1%8F_%D0%B2_%D0%BC%D0%B0%D0%B5_2020_%D0%B3%D0%BE%D0%B4%D0%B0}|\n",
            "|                                                                                                                                                                                                                                                                                                                                                                                                                                                                                                                          {ru.wikinews.org, 2022-10-27T13:02:48Z, 44ed86ec-caae-4679-9977-6bcc19174355, 4264506487, 0, 2a2f5df3-cb08-4b9a-b88b-48c756b1cf99, mediawiki.recentchange, eqiad.mediawiki.recentchange, https://ru.wikinews.org/wiki/%D0%9A%D0%B0%D1%82%D0%B5%D0%B3%D0%BE%D1%80%D0%B8%D1%8F:%D0%A0%D0%BE%D1%81%D1%81%D0%B8%D1%8F_%D0%B2_%D0%BC%D0%B0%D0%B5_2020_%D0%B3%D0%BE%D0%B4%D0%B0}|\n",
            "|                                                                                                                                     {ru.wikinews.org, 2022-10-27T13:02:56Z, 3630f8e0-eacb-48bc-b6fc-b0e7006b1c91, 4264506523, 0, 614d9482-a039-4460-b4b4-90e2192d4b54, mediawiki.recentchange, eqiad.mediawiki.recentchange, https://ru.wikinews.org/wiki/%C2%AB%D0%AE%D1%80%D0%B8%D0%B9_%D0%9F%D0%B0%D0%B2%D0%BB%D0%BE%D0%B2%D0%B8%D1%87_%D1%82%D0%B0%D0%BA_%D0%B6%D0%B5_%D0%BC%D0%BE%D0%BB%D0%BE%D0%B4_%D0%B4%D1%83%D1%88%D0%BE%D0%B9_%D0%B8_%D0%BF%D1%80%D0%B5%D0%B4%D0%B0%D0%BD_%D0%BB%D1%8E%D0%B1%D0%B8%D0%BC%D0%BE%D0%BC%D1%83_%D0%B4%D0%B5%D0%BB%D1%83%C2%BB._%D0%A7%D0%B5%D1%80%D1%87%D0%B5%D1%81%D0%BE%D0%B2_%D0%BF%D0%BE%D0%B7%D0%B4%D1%80%D0%B0%D0%B2%D0%B8%D0%BB_%D0%A1%D0%B5%D0%BC%D0%B8%D0%BD%D0%B0_%D1%81_%D0%B4%D0%BD%D0%B5%D0%BC_%D1%80%D0%BE%D0%B6%D0%B4%D0%B5%D0%BD%D0%B8%D1%8F}|\n",
            "+----------------------------------------------------------------------------------------------------------------------------------------------------------------------------------------------------------------------------------------------------------------------------------------------------------------------------------------------------------------------------------------------------------------------------------------------------------------------------------------------------------------------------------------------------------------------------------------------------------------------------------------------------------------------------------------------------------------------------------------------------------------------------------------------------------------------------------------------------------------------------------------------------+\n",
            "only showing top 20 rows\n",
            "\n",
            "+--------+\n",
            "|count(1)|\n",
            "+--------+\n",
            "|     176|\n",
            "+--------+\n",
            "\n"
          ]
        }
      ]
    }
  ]
}