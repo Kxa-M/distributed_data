{
  "nbformat": 4,
  "nbformat_minor": 0,
  "metadata": {
    "colab": {
      "provenance": [],
      "authorship_tag": "ABX9TyNM0ti+gj0rtjSEeM9vHDgk",
      "include_colab_link": true
    },
    "kernelspec": {
      "name": "python3",
      "display_name": "Python 3"
    },
    "language_info": {
      "name": "python"
    }
  },
  "cells": [
    {
      "cell_type": "markdown",
      "metadata": {
        "id": "view-in-github",
        "colab_type": "text"
      },
      "source": [
        "<a href=\"https://colab.research.google.com/github/momo54/large_scale_data_management/blob/main/PageRank_an_PySPARK_SQL.ipynb\" target=\"_parent\"><img src=\"https://colab.research.google.com/assets/colab-badge.svg\" alt=\"Open In Colab\"/></a>"
      ]
    },
    {
      "cell_type": "code",
      "source": [
        "!pip install pyspark"
      ],
      "metadata": {
        "colab": {
          "base_uri": "https://localhost:8080/"
        },
        "id": "iJTFdC0vVqiY",
        "outputId": "22fe9af3-e8f3-474e-eff7-aca15cff5867"
      },
      "execution_count": 35,
      "outputs": [
        {
          "output_type": "stream",
          "name": "stdout",
          "text": [
            "Requirement already satisfied: pyspark in /usr/local/lib/python3.10/dist-packages (3.5.0)\n",
            "Requirement already satisfied: py4j==0.10.9.7 in /usr/local/lib/python3.10/dist-packages (from pyspark) (0.10.9.7)\n"
          ]
        }
      ]
    },
    {
      "cell_type": "code",
      "source": [
        "!pip install -q findspark\n",
        "import findspark\n",
        "findspark.init()"
      ],
      "metadata": {
        "id": "1KCvbWLtVtM0"
      },
      "execution_count": 36,
      "outputs": []
    },
    {
      "cell_type": "code",
      "source": [
        "!wget -q https://storage.googleapis.com/public_lddm_data/small_page_links.nt\n",
        "!ls"
      ],
      "metadata": {
        "colab": {
          "base_uri": "https://localhost:8080/"
        },
        "id": "c170pcXpWHw4",
        "outputId": "de916377-59ea-4c47-ea87-6d8db77006f0"
      },
      "execution_count": 37,
      "outputs": [
        {
          "output_type": "stream",
          "name": "stdout",
          "text": [
            "sample_data  small_page_links.nt  small_page_links.nt.1\n"
          ]
        }
      ]
    },
    {
      "cell_type": "code",
      "source": [
        "from pyspark.sql import SparkSession\n",
        "from pyspark.sql.functions import col\n",
        "\n",
        "# Créez une session Spark\n",
        "spark = SparkSession.builder.appName(\"PageRankExample\").getOrCreate()\n"
      ],
      "metadata": {
        "id": "TtAMxYKoZDzr"
      },
      "execution_count": 38,
      "outputs": []
    },
    {
      "cell_type": "code",
      "source": [
        "from pyspark.sql.types import StructType, StructField, StringType, IntegerType, DoubleType\n",
        "schema = StructType([\n",
        "    StructField(\"source\", StringType(), nullable=True),\n",
        "    StructField(\"predicate\", StringType(), nullable=True),\n",
        "    StructField(\"target\", StringType(), nullable=True)\n",
        "])"
      ],
      "metadata": {
        "id": "bwJ5e6iFbPRC"
      },
      "execution_count": 39,
      "outputs": []
    },
    {
      "cell_type": "code",
      "source": [
        "# Chargez vos données web en tant que DataFrame\n",
        "# Supposons que vous ayez un DataFrame avec deux colonnes : 'source' et 'target' représentant les liens entre les pages web\n",
        "# Par exemple, vous pouvez le charger à partir d'un fichier CSV\n",
        "data = spark.read.option(\"delimiter\",\" \").csv(\"small_page_links.nt\", header=False, schema=schema)\n",
        "data.show(5,truncate=200)"
      ],
      "metadata": {
        "colab": {
          "base_uri": "https://localhost:8080/"
        },
        "id": "WDSxqtIxbkRd",
        "outputId": "9455cd48-6ab7-4e13-ecd0-19ec15e5bedd"
      },
      "execution_count": 40,
      "outputs": [
        {
          "output_type": "stream",
          "name": "stdout",
          "text": [
            "+-------------------------------------------------------+--------------------------------------+-----------------------------------------------------------+\n",
            "|                                                 source|                             predicate|                                                     target|\n",
            "+-------------------------------------------------------+--------------------------------------+-----------------------------------------------------------+\n",
            "|       <http://dbpedia.org/resource/AfghanistanHistory>|<http://dbpedia.org/property/wikilink>|       <http://dbpedia.org/resource/History_of_Afghanistan>|\n",
            "|     <http://dbpedia.org/resource/AfghanistanGeography>|<http://dbpedia.org/property/wikilink>|     <http://dbpedia.org/resource/Geography_of_Afghanistan>|\n",
            "|      <http://dbpedia.org/resource/AccessibleComputing>|<http://dbpedia.org/property/wikilink>|       <http://dbpedia.org/resource/Computer_accessibility>|\n",
            "|        <http://dbpedia.org/resource/AfghanistanPeople>|<http://dbpedia.org/property/wikilink>|    <http://dbpedia.org/resource/Demography_of_Afghanistan>|\n",
            "|<http://dbpedia.org/resource/AfghanistanCommunications>|<http://dbpedia.org/property/wikilink>|<http://dbpedia.org/resource/Communications_in_Afghanistan>|\n",
            "+-------------------------------------------------------+--------------------------------------+-----------------------------------------------------------+\n",
            "only showing top 5 rows\n",
            "\n"
          ]
        }
      ]
    },
    {
      "cell_type": "code",
      "source": [
        "# So we can really write SQL !!\n",
        "data.createOrReplaceTempView(\"SPO\")\n",
        "result=spark.sql(\"select source from SPO\")\n",
        "result.show(5)"
      ],
      "metadata": {
        "colab": {
          "base_uri": "https://localhost:8080/"
        },
        "id": "_dYw-zlWeXf6",
        "outputId": "8e1976b2-3e7f-4b45-f8c9-4514c48b427a"
      },
      "execution_count": 41,
      "outputs": [
        {
          "output_type": "stream",
          "name": "stdout",
          "text": [
            "+--------------------+\n",
            "|              source|\n",
            "+--------------------+\n",
            "|<http://dbpedia.o...|\n",
            "|<http://dbpedia.o...|\n",
            "|<http://dbpedia.o...|\n",
            "|<http://dbpedia.o...|\n",
            "|<http://dbpedia.o...|\n",
            "+--------------------+\n",
            "only showing top 5 rows\n",
            "\n"
          ]
        }
      ]
    },
    {
      "cell_type": "code",
      "source": [
        "data.take(1)"
      ],
      "metadata": {
        "colab": {
          "base_uri": "https://localhost:8080/"
        },
        "id": "jbrHqa1KZhiv",
        "outputId": "aeaaf869-3150-40d8-b0c5-abfab8456878"
      },
      "execution_count": null,
      "outputs": [
        {
          "output_type": "execute_result",
          "data": {
            "text/plain": [
              "[Row(source='<http://dbpedia.org/resource/AfghanistanHistory>', predicate='<http://dbpedia.org/property/wikilink>', target='<http://dbpedia.org/resource/History_of_Afghanistan>')]"
            ]
          },
          "metadata": {},
          "execution_count": 21
        }
      ]
    },
    {
      "cell_type": "code",
      "source": [
        "# Créez un DataFrame contenant le nombre de liens sortants pour chaque page\n",
        "outdegrees = data.groupBy(\"source\").count().withColumnRenamed(\"source\", \"page\").withColumnRenamed(\"count\", \"outDegree\")\n",
        "\n",
        "# Définissez le nombre d'itérations pour le calcul du PageRank\n",
        "max_iterations = 3\n",
        "damping_factor = 0.85\n",
        "\n",
        "# Initialisation du PageRank en attribuant à chaque page une valeur de départ\n",
        "initial_pagerank = 1.0\n",
        "\n",
        "# Créez un DataFrame contenant les valeurs de PageRank initiales\n",
        "pagerank = outdegrees.withColumn(\"pagerank\", col(\"outDegree\") / initial_pagerank)\n",
        "\n",
        "pagerank.show(5,truncate=100)\n"
      ],
      "metadata": {
        "colab": {
          "base_uri": "https://localhost:8080/"
        },
        "id": "l7XgCADodTfE",
        "outputId": "118553ac-2465-46b1-ad26-1a49a9c62c92"
      },
      "execution_count": 50,
      "outputs": [
        {
          "output_type": "stream",
          "name": "stdout",
          "text": [
            "+-----------------------------------------------------+---------+--------+\n",
            "|                                                 page|outDegree|pagerank|\n",
            "+-----------------------------------------------------+---------+--------+\n",
            "|         <http://dbpedia.org/resource/Actinopterygii>|      197|   197.0|\n",
            "|<http://dbpedia.org/resource/AtlasShruggedCharacters>|        1|     1.0|\n",
            "|             <http://dbpedia.org/resource/Allegiance>|       35|    35.0|\n",
            "|                  <http://dbpedia.org/resource/AbboT>|        1|     1.0|\n",
            "|        <http://dbpedia.org/resource/AcademicElitism>|        1|     1.0|\n",
            "+-----------------------------------------------------+---------+--------+\n",
            "only showing top 5 rows\n",
            "\n"
          ]
        }
      ]
    },
    {
      "cell_type": "code",
      "source": [
        "# Rejoignez le DataFrame pagerank avec le DataFrame data pour calculer la contribution à partir des liens entrants\n",
        "contrib = data.join(pagerank, data.target == pagerank.page, \"left\").select(\"source\", \"pagerank\")\n",
        "\n",
        "new_pagerank = contrib.groupBy(\"source\").sum(\"pagerank\").withColumnRenamed(\"source\", \"page\").withColumnRenamed(\"sum(pagerank)\", \"pagerank\")\n",
        "\n",
        "# Joignez le DataFrame \"new_pagerank\" avec le DataFrame \"outdegrees\" pour obtenir les \"outDegree\" appropriés\n",
        "pagerank = new_pagerank.join(outdegrees, new_pagerank.page == outdegrees.page, \"left\").select(new_pagerank.page, new_pagerank.pagerank, outdegrees.outDegree)\n",
        "\n",
        "# Appliquez la formule du PageRank\n",
        "pagerank = pagerank.withColumn(\"pagerank\", (1 - damping_factor) + damping_factor * col(\"pagerank\") / col(\"outDegree\"))\n",
        "pagerank.show(5)"
      ],
      "metadata": {
        "id": "-2KZfyUqkuM5",
        "colab": {
          "base_uri": "https://localhost:8080/"
        },
        "outputId": "6b6355a1-5770-4038-b2e2-fab01501d5b8"
      },
      "execution_count": 49,
      "outputs": [
        {
          "metadata": {
            "tags": null
          },
          "name": "stdout",
          "output_type": "stream",
          "text": [
            "+--------------------+-----------------+---------+\n",
            "|                page|         pagerank|outDegree|\n",
            "+--------------------+-----------------+---------+\n",
            "|<http://dbpedia.o...|             NULL|      197|\n",
            "|<http://dbpedia.o...|39973.37172131147|        1|\n",
            "|<http://dbpedia.o...|             NULL|       35|\n",
            "|<http://dbpedia.o...|810.6272849462365|        1|\n",
            "|<http://dbpedia.o...|             NULL|        1|\n",
            "+--------------------+-----------------+---------+\n",
            "only showing top 5 rows\n",
            "\n"
          ]
        }
      ]
    },
    {
      "cell_type": "code",
      "source": [
        "# quand le chat dit des bétises...\n",
        " # Rejoignez le DataFrame pagerank avec le DataFrame data pour calculer la contribution à partir des liens entrants\n",
        "contrib = data.join(pagerank, data.target == pagerank.page, \"left\").select(\"source\", \"pagerank\")\n",
        "contrib.show(2,truncate=100)\n",
        "\n",
        "# Calculez le nouveau PageRank\n",
        "pagerank = contrib.groupBy(\"source\").sum(\"pagerank\").withColumnRenamed(\"source\", \"page\").withColumnRenamed(\"sum(pagerank)\", \"pagerank\")\n",
        "pagerank.show(2)\n",
        "\n",
        "# Appliquez la formule du PageRank\n",
        "pagerank = pagerank.withColumn(\"pagerank\", (1 - damping_factor) + damping_factor * col(\"pagerank\") /  pagerank[\"outDegree\"])\n",
        "pagerank.show(2)"
      ],
      "metadata": {
        "colab": {
          "base_uri": "https://localhost:8080/",
          "height": 686
        },
        "id": "OK9Ub4rId8Bg",
        "outputId": "0e7abe16-4afb-4110-c729-155eb00ec2d2"
      },
      "execution_count": 47,
      "outputs": [
        {
          "output_type": "stream",
          "name": "stdout",
          "text": [
            "+--------------------------------------------------+--------+\n",
            "|                                            source|pagerank|\n",
            "+--------------------------------------------------+--------+\n",
            "|  <http://dbpedia.org/resource/AfghanistanHistory>|    NULL|\n",
            "|<http://dbpedia.org/resource/AfghanistanGeography>|    NULL|\n",
            "+--------------------------------------------------+--------+\n",
            "only showing top 2 rows\n",
            "\n",
            "+--------------------+--------+\n",
            "|                page|pagerank|\n",
            "+--------------------+--------+\n",
            "|<http://dbpedia.o...|    NULL|\n",
            "|<http://dbpedia.o...| 50594.0|\n",
            "+--------------------+--------+\n",
            "only showing top 2 rows\n",
            "\n"
          ]
        },
        {
          "output_type": "error",
          "ename": "AnalysisException",
          "evalue": "ignored",
          "traceback": [
            "\u001b[0;31m---------------------------------------------------------------------------\u001b[0m",
            "\u001b[0;31mAnalysisException\u001b[0m                         Traceback (most recent call last)",
            "\u001b[0;32m<ipython-input-47-d2e9b08f75b2>\u001b[0m in \u001b[0;36m<cell line: 10>\u001b[0;34m()\u001b[0m\n\u001b[1;32m      8\u001b[0m \u001b[0;34m\u001b[0m\u001b[0m\n\u001b[1;32m      9\u001b[0m \u001b[0;31m# Appliquez la formule du PageRank\u001b[0m\u001b[0;34m\u001b[0m\u001b[0;34m\u001b[0m\u001b[0m\n\u001b[0;32m---> 10\u001b[0;31m \u001b[0mpagerank\u001b[0m \u001b[0;34m=\u001b[0m \u001b[0mpagerank\u001b[0m\u001b[0;34m.\u001b[0m\u001b[0mwithColumn\u001b[0m\u001b[0;34m(\u001b[0m\u001b[0;34m\"pagerank\"\u001b[0m\u001b[0;34m,\u001b[0m \u001b[0;34m(\u001b[0m\u001b[0;36m1\u001b[0m \u001b[0;34m-\u001b[0m \u001b[0mdamping_factor\u001b[0m\u001b[0;34m)\u001b[0m \u001b[0;34m+\u001b[0m \u001b[0mdamping_factor\u001b[0m \u001b[0;34m*\u001b[0m \u001b[0mcol\u001b[0m\u001b[0;34m(\u001b[0m\u001b[0;34m\"pagerank\"\u001b[0m\u001b[0;34m)\u001b[0m \u001b[0;34m/\u001b[0m  \u001b[0mpagerank\u001b[0m\u001b[0;34m[\u001b[0m\u001b[0;34m\"outDegree\"\u001b[0m\u001b[0;34m]\u001b[0m\u001b[0;34m)\u001b[0m\u001b[0;34m\u001b[0m\u001b[0;34m\u001b[0m\u001b[0m\n\u001b[0m\u001b[1;32m     11\u001b[0m \u001b[0mpagerank\u001b[0m\u001b[0;34m.\u001b[0m\u001b[0mshow\u001b[0m\u001b[0;34m(\u001b[0m\u001b[0;36m2\u001b[0m\u001b[0;34m)\u001b[0m\u001b[0;34m\u001b[0m\u001b[0;34m\u001b[0m\u001b[0m\n",
            "\u001b[0;32m/usr/local/lib/python3.10/dist-packages/pyspark/sql/dataframe.py\u001b[0m in \u001b[0;36m__getitem__\u001b[0;34m(self, item)\u001b[0m\n\u001b[1;32m   3072\u001b[0m         \"\"\"\n\u001b[1;32m   3073\u001b[0m         \u001b[0;32mif\u001b[0m \u001b[0misinstance\u001b[0m\u001b[0;34m(\u001b[0m\u001b[0mitem\u001b[0m\u001b[0;34m,\u001b[0m \u001b[0mstr\u001b[0m\u001b[0;34m)\u001b[0m\u001b[0;34m:\u001b[0m\u001b[0;34m\u001b[0m\u001b[0;34m\u001b[0m\u001b[0m\n\u001b[0;32m-> 3074\u001b[0;31m             \u001b[0mjc\u001b[0m \u001b[0;34m=\u001b[0m \u001b[0mself\u001b[0m\u001b[0;34m.\u001b[0m\u001b[0m_jdf\u001b[0m\u001b[0;34m.\u001b[0m\u001b[0mapply\u001b[0m\u001b[0;34m(\u001b[0m\u001b[0mitem\u001b[0m\u001b[0;34m)\u001b[0m\u001b[0;34m\u001b[0m\u001b[0;34m\u001b[0m\u001b[0m\n\u001b[0m\u001b[1;32m   3075\u001b[0m             \u001b[0;32mreturn\u001b[0m \u001b[0mColumn\u001b[0m\u001b[0;34m(\u001b[0m\u001b[0mjc\u001b[0m\u001b[0;34m)\u001b[0m\u001b[0;34m\u001b[0m\u001b[0;34m\u001b[0m\u001b[0m\n\u001b[1;32m   3076\u001b[0m         \u001b[0;32melif\u001b[0m \u001b[0misinstance\u001b[0m\u001b[0;34m(\u001b[0m\u001b[0mitem\u001b[0m\u001b[0;34m,\u001b[0m \u001b[0mColumn\u001b[0m\u001b[0;34m)\u001b[0m\u001b[0;34m:\u001b[0m\u001b[0;34m\u001b[0m\u001b[0;34m\u001b[0m\u001b[0m\n",
            "\u001b[0;32m/usr/local/lib/python3.10/dist-packages/py4j/java_gateway.py\u001b[0m in \u001b[0;36m__call__\u001b[0;34m(self, *args)\u001b[0m\n\u001b[1;32m   1320\u001b[0m \u001b[0;34m\u001b[0m\u001b[0m\n\u001b[1;32m   1321\u001b[0m         \u001b[0manswer\u001b[0m \u001b[0;34m=\u001b[0m \u001b[0mself\u001b[0m\u001b[0;34m.\u001b[0m\u001b[0mgateway_client\u001b[0m\u001b[0;34m.\u001b[0m\u001b[0msend_command\u001b[0m\u001b[0;34m(\u001b[0m\u001b[0mcommand\u001b[0m\u001b[0;34m)\u001b[0m\u001b[0;34m\u001b[0m\u001b[0;34m\u001b[0m\u001b[0m\n\u001b[0;32m-> 1322\u001b[0;31m         return_value = get_return_value(\n\u001b[0m\u001b[1;32m   1323\u001b[0m             answer, self.gateway_client, self.target_id, self.name)\n\u001b[1;32m   1324\u001b[0m \u001b[0;34m\u001b[0m\u001b[0m\n",
            "\u001b[0;32m/usr/local/lib/python3.10/dist-packages/pyspark/errors/exceptions/captured.py\u001b[0m in \u001b[0;36mdeco\u001b[0;34m(*a, **kw)\u001b[0m\n\u001b[1;32m    183\u001b[0m                 \u001b[0;31m# Hide where the exception came from that shows a non-Pythonic\u001b[0m\u001b[0;34m\u001b[0m\u001b[0;34m\u001b[0m\u001b[0m\n\u001b[1;32m    184\u001b[0m                 \u001b[0;31m# JVM exception message.\u001b[0m\u001b[0;34m\u001b[0m\u001b[0;34m\u001b[0m\u001b[0m\n\u001b[0;32m--> 185\u001b[0;31m                 \u001b[0;32mraise\u001b[0m \u001b[0mconverted\u001b[0m \u001b[0;32mfrom\u001b[0m \u001b[0;32mNone\u001b[0m\u001b[0;34m\u001b[0m\u001b[0;34m\u001b[0m\u001b[0m\n\u001b[0m\u001b[1;32m    186\u001b[0m             \u001b[0;32melse\u001b[0m\u001b[0;34m:\u001b[0m\u001b[0;34m\u001b[0m\u001b[0;34m\u001b[0m\u001b[0m\n\u001b[1;32m    187\u001b[0m                 \u001b[0;32mraise\u001b[0m\u001b[0;34m\u001b[0m\u001b[0;34m\u001b[0m\u001b[0m\n",
            "\u001b[0;31mAnalysisException\u001b[0m: [UNRESOLVED_COLUMN.WITH_SUGGESTION] A column or function parameter with name `outDegree` cannot be resolved. Did you mean one of the following? [`page`, `pagerank`]."
          ]
        }
      ]
    },
    {
      "cell_type": "code",
      "execution_count": 53,
      "metadata": {
        "id": "u39aYX1jzi8H",
        "colab": {
          "base_uri": "https://localhost:8080/"
        },
        "outputId": "d0808860-9f8b-413e-c8c3-c67c8ef9e3f6"
      },
      "outputs": [
        {
          "output_type": "stream",
          "name": "stdout",
          "text": [
            "+--------------------+-------------------+\n",
            "|                page|           pagerank|\n",
            "+--------------------+-------------------+\n",
            "|<http://dbpedia.o...|               NULL|\n",
            "|<http://dbpedia.o...|0.28111708845019723|\n",
            "|<http://dbpedia.o...|               NULL|\n",
            "|<http://dbpedia.o...|0.27989073867732917|\n",
            "|<http://dbpedia.o...|               NULL|\n",
            "|<http://dbpedia.o...|               NULL|\n",
            "|<http://dbpedia.o...|               NULL|\n",
            "|<http://dbpedia.o...|0.15577653203305658|\n",
            "|<http://dbpedia.o...|               NULL|\n",
            "|<http://dbpedia.o...|0.15589785108855592|\n",
            "|<http://dbpedia.o...|0.15595562103322655|\n",
            "|<http://dbpedia.o...|0.15521238381856947|\n",
            "|<http://dbpedia.o...| 0.1512481644640235|\n",
            "|<http://dbpedia.o...|0.15288306779854458|\n",
            "|<http://dbpedia.o...|0.15363072921406307|\n",
            "|<http://dbpedia.o...|               NULL|\n",
            "|<http://dbpedia.o...|0.15071076181142143|\n",
            "|<http://dbpedia.o...|0.15159132688549384|\n",
            "|<http://dbpedia.o...|               NULL|\n",
            "|<http://dbpedia.o...|               NULL|\n",
            "+--------------------+-------------------+\n",
            "only showing top 20 rows\n",
            "\n",
            "Temps d'exécution : 41.281458616256714 secondes\n"
          ]
        }
      ],
      "source": [
        "import time\n",
        "max_iterations = 10\n",
        "debut = time.time()\n",
        "\n",
        "# Effectuez des itérations pour calculer le PageRank\n",
        "\n",
        "for iteration in range(max_iterations):\n",
        "  # Rejoignez le DataFrame pagerank avec le DataFrame data pour calculer la contribution à partir des liens entrants\n",
        "  contrib = data.join(pagerank, data.target == pagerank.page, \"left\").select(\"source\", \"pagerank\")\n",
        "\n",
        "  new_pagerank = contrib.groupBy(\"source\").sum(\"pagerank\").withColumnRenamed(\"source\", \"page\").withColumnRenamed(\"sum(pagerank)\", \"pagerank\")\n",
        "\n",
        "  # Joignez le DataFrame \"new_pagerank\" avec le DataFrame \"outdegrees\" pour obtenir les \"outDegree\" appropriés\n",
        "  pagerank = new_pagerank.join(outdegrees, new_pagerank.page == outdegrees.page, \"left\").select(new_pagerank.page, new_pagerank.pagerank, outdegrees.outDegree)\n",
        "\n",
        "  # Appliquez la formule du PageRank\n",
        "  pagerank = pagerank.withColumn(\"pagerank\", (1 - damping_factor) + damping_factor * col(\"pagerank\") / col(\"outDegree\"))\n",
        "\n",
        "\n",
        "# Affichez les résultats\n",
        "pagerank.select(\"page\", \"pagerank\").show()\n",
        "fin = time.time()\n",
        "print(f\"Temps d'exécution : {fin-debut} secondes\")\n",
        "# Arrêtez la session Spark\n",
        "# spark.stop()"
      ]
    }
  ]
}