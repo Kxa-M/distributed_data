{
 "cells": [
  {
   "cell_type": "code",
   "execution_count": 1,
   "metadata": {},
   "outputs": [],
   "source": [
    "import pandas as pd\n",
    "import os"
   ]
  },
  {
   "cell_type": "code",
   "execution_count": 2,
   "metadata": {},
   "outputs": [],
   "source": [
    "result_folder = '../out/cluster-notype-partition-4w'"
   ]
  },
  {
   "cell_type": "code",
   "execution_count": 4,
   "metadata": {},
   "outputs": [],
   "source": [
    "# Load the CSV file into a DataFrame\n",
    "# Get list of all CSV files in the 'out' directory\n",
    "csv_files = [f for f in os.listdir(result_folder) if f.endswith('.csv')]\n",
    "\n",
    "# Initialize an empty DataFrame\n",
    "df = pd.DataFrame()\n",
    "\n",
    "# Loop through the CSV files and concatenate them into a single DataFrame\n",
    "for file in csv_files:\n",
    "    df_additional = pd.read_csv(os.path.join(result_folder, file), names=['link', 'PageRank_score'])\n",
    "    df = pd.concat([df, df_additional], ignore_index=True)\n"
   ]
  },
  {
   "cell_type": "code",
   "execution_count": 5,
   "metadata": {},
   "outputs": [
    {
     "data": {
      "text/html": [
       "<div>\n",
       "<style scoped>\n",
       "    .dataframe tbody tr th:only-of-type {\n",
       "        vertical-align: middle;\n",
       "    }\n",
       "\n",
       "    .dataframe tbody tr th {\n",
       "        vertical-align: top;\n",
       "    }\n",
       "\n",
       "    .dataframe thead th {\n",
       "        text-align: right;\n",
       "    }\n",
       "</style>\n",
       "<table border=\"1\" class=\"dataframe\">\n",
       "  <thead>\n",
       "    <tr style=\"text-align: right;\">\n",
       "      <th></th>\n",
       "      <th>link</th>\n",
       "      <th>PageRank_score</th>\n",
       "    </tr>\n",
       "  </thead>\n",
       "  <tbody>\n",
       "    <tr>\n",
       "      <th>0</th>\n",
       "      <td>&lt;http://dbpedia.org/resource/Rizla&gt;</td>\n",
       "      <td>1.030901</td>\n",
       "    </tr>\n",
       "    <tr>\n",
       "      <th>1</th>\n",
       "      <td>&lt;http://dbpedia.org/resource/Emperor_Joseph_II&gt;</td>\n",
       "      <td>1.310585</td>\n",
       "    </tr>\n",
       "    <tr>\n",
       "      <th>2</th>\n",
       "      <td>&lt;http://dbpedia.org/resource/International_Fin...</td>\n",
       "      <td>13.834791</td>\n",
       "    </tr>\n",
       "    <tr>\n",
       "      <th>3</th>\n",
       "      <td>&lt;http://dbpedia.org/resource/IBM_7909&gt;</td>\n",
       "      <td>0.152711</td>\n",
       "    </tr>\n",
       "    <tr>\n",
       "      <th>4</th>\n",
       "      <td>&lt;http://dbpedia.org/resource/Serial_Storage_Ar...</td>\n",
       "      <td>1.201260</td>\n",
       "    </tr>\n",
       "  </tbody>\n",
       "</table>\n",
       "</div>"
      ],
      "text/plain": [
       "                                                link  PageRank_score\n",
       "0                <http://dbpedia.org/resource/Rizla>        1.030901\n",
       "1    <http://dbpedia.org/resource/Emperor_Joseph_II>        1.310585\n",
       "2  <http://dbpedia.org/resource/International_Fin...       13.834791\n",
       "3             <http://dbpedia.org/resource/IBM_7909>        0.152711\n",
       "4  <http://dbpedia.org/resource/Serial_Storage_Ar...        1.201260"
      ]
     },
     "execution_count": 5,
     "metadata": {},
     "output_type": "execute_result"
    }
   ],
   "source": [
    "df.head()   "
   ]
  },
  {
   "cell_type": "code",
   "execution_count": 6,
   "metadata": {},
   "outputs": [
    {
     "data": {
      "text/html": [
       "<div>\n",
       "<style scoped>\n",
       "    .dataframe tbody tr th:only-of-type {\n",
       "        vertical-align: middle;\n",
       "    }\n",
       "\n",
       "    .dataframe tbody tr th {\n",
       "        vertical-align: top;\n",
       "    }\n",
       "\n",
       "    .dataframe thead th {\n",
       "        text-align: right;\n",
       "    }\n",
       "</style>\n",
       "<table border=\"1\" class=\"dataframe\">\n",
       "  <thead>\n",
       "    <tr style=\"text-align: right;\">\n",
       "      <th></th>\n",
       "      <th>link</th>\n",
       "      <th>PageRank_score</th>\n",
       "    </tr>\n",
       "  </thead>\n",
       "  <tbody>\n",
       "    <tr>\n",
       "      <th>118273</th>\n",
       "      <td>&lt;http://dbpedia.org/resource/Living_people&gt;</td>\n",
       "      <td>36794.331468</td>\n",
       "    </tr>\n",
       "    <tr>\n",
       "      <th>246149</th>\n",
       "      <td>&lt;http://dbpedia.org/resource/United_States&gt;</td>\n",
       "      <td>13201.340152</td>\n",
       "    </tr>\n",
       "    <tr>\n",
       "      <th>1219637</th>\n",
       "      <td>&lt;http://dbpedia.org/resource/Race_and_ethnicit...</td>\n",
       "      <td>10371.162006</td>\n",
       "    </tr>\n",
       "    <tr>\n",
       "      <th>10041278</th>\n",
       "      <td>&lt;http://dbpedia.org/resource/List_of_sovereign...</td>\n",
       "      <td>5195.347362</td>\n",
       "    </tr>\n",
       "    <tr>\n",
       "      <th>1176375</th>\n",
       "      <td>&lt;http://dbpedia.org/resource/United_Kingdom&gt;</td>\n",
       "      <td>4923.821309</td>\n",
       "    </tr>\n",
       "  </tbody>\n",
       "</table>\n",
       "</div>"
      ],
      "text/plain": [
       "                                                       link  PageRank_score\n",
       "118273          <http://dbpedia.org/resource/Living_people>    36794.331468\n",
       "246149          <http://dbpedia.org/resource/United_States>    13201.340152\n",
       "1219637   <http://dbpedia.org/resource/Race_and_ethnicit...    10371.162006\n",
       "10041278  <http://dbpedia.org/resource/List_of_sovereign...     5195.347362\n",
       "1176375        <http://dbpedia.org/resource/United_Kingdom>     4923.821309"
      ]
     },
     "execution_count": 6,
     "metadata": {},
     "output_type": "execute_result"
    }
   ],
   "source": [
    "# Sort the DataFrame by PageRank_score in descending order\n",
    "df_sorted = df.sort_values(by='PageRank_score', ascending=False)\n",
    "df_sorted.head()"
   ]
  },
  {
   "cell_type": "code",
   "execution_count": 9,
   "metadata": {},
   "outputs": [],
   "source": [
    "# Save the sorted DataFrame to a CSV file\n",
    "df_sorted.head().to_csv(os.path.join('./', result_folder + '_sorted_pagerank.csv'), index=False)"
   ]
  },
  {
   "cell_type": "code",
   "execution_count": null,
   "metadata": {},
   "outputs": [],
   "source": []
  }
 ],
 "metadata": {
  "colab": {
   "authorship_tag": "ABX9TyMquPisG8ynfWsWW25+mj6n",
   "include_colab_link": true,
   "provenance": []
  },
  "kernelspec": {
   "display_name": "Python 3 (ipykernel)",
   "language": "python",
   "name": "python3"
  },
  "language_info": {
   "codemirror_mode": {
    "name": "ipython",
    "version": 3
   },
   "file_extension": ".py",
   "mimetype": "text/x-python",
   "name": "python",
   "nbconvert_exporter": "python",
   "pygments_lexer": "ipython3",
   "version": "3.12.7"
  }
 },
 "nbformat": 4,
 "nbformat_minor": 4
}
