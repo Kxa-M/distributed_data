{
  "cells": [
    {
      "cell_type": "code",
      "execution_count": 1,
      "metadata": {},
      "outputs": [],
      "source": [
        "import pandas as pd\n",
        "import os"
      ]
    },
    {
      "cell_type": "code",
      "execution_count": 5,
      "metadata": {},
      "outputs": [],
      "source": [
        "result_folder = '../out'"
      ]
    },
    {
      "cell_type": "code",
      "execution_count": 6,
      "metadata": {},
      "outputs": [],
      "source": [
        "# Load the CSV file into a DataFrame\n",
        "# Get list of all CSV files in the 'out' directory\n",
        "csv_files = [f for f in os.listdir(result_folder) if f.endswith('.csv')]\n",
        "\n",
        "# Initialize an empty DataFrame\n",
        "df = pd.DataFrame()\n",
        "\n",
        "# Loop through the CSV files and concatenate them into a single DataFrame\n",
        "for file in csv_files:\n",
        "    df_additional = pd.read_csv(os.path.join('../out', file), names=['link', 'PageRank_score'])\n",
        "    df = pd.concat([df, df_additional], ignore_index=True)\n"
      ]
    },
    {
      "cell_type": "code",
      "execution_count": 3,
      "metadata": {},
      "outputs": [
        {
          "data": {
            "text/html": [
              "<div>\n",
              "<style scoped>\n",
              "    .dataframe tbody tr th:only-of-type {\n",
              "        vertical-align: middle;\n",
              "    }\n",
              "\n",
              "    .dataframe tbody tr th {\n",
              "        vertical-align: top;\n",
              "    }\n",
              "\n",
              "    .dataframe thead th {\n",
              "        text-align: right;\n",
              "    }\n",
              "</style>\n",
              "<table border=\"1\" class=\"dataframe\">\n",
              "  <thead>\n",
              "    <tr style=\"text-align: right;\">\n",
              "      <th></th>\n",
              "      <th>link</th>\n",
              "      <th>PageRank_score</th>\n",
              "    </tr>\n",
              "  </thead>\n",
              "  <tbody>\n",
              "    <tr>\n",
              "      <th>0</th>\n",
              "      <td>&lt;http://dbpedia.org/resource/Demographics_of_A...</td>\n",
              "      <td>0.152156</td>\n",
              "    </tr>\n",
              "    <tr>\n",
              "      <th>1</th>\n",
              "      <td>&lt;http://dbpedia.org/resource/Economy_of_Armenia&gt;</td>\n",
              "      <td>0.153394</td>\n",
              "    </tr>\n",
              "    <tr>\n",
              "      <th>2</th>\n",
              "      <td>&lt;http://dbpedia.org/resource/Analysis_of_varia...</td>\n",
              "      <td>0.278561</td>\n",
              "    </tr>\n",
              "    <tr>\n",
              "      <th>3</th>\n",
              "      <td>&lt;http://dbpedia.org/resource/Absolute_majority&gt;</td>\n",
              "      <td>NaN</td>\n",
              "    </tr>\n",
              "    <tr>\n",
              "      <th>4</th>\n",
              "      <td>&lt;http://dbpedia.org/resource/August&gt;</td>\n",
              "      <td>0.155575</td>\n",
              "    </tr>\n",
              "  </tbody>\n",
              "</table>\n",
              "</div>"
            ],
            "text/plain": [
              "                                                link  PageRank_score\n",
              "0  <http://dbpedia.org/resource/Demographics_of_A...        0.152156\n",
              "1   <http://dbpedia.org/resource/Economy_of_Armenia>        0.153394\n",
              "2  <http://dbpedia.org/resource/Analysis_of_varia...        0.278561\n",
              "3    <http://dbpedia.org/resource/Absolute_majority>             NaN\n",
              "4               <http://dbpedia.org/resource/August>        0.155575"
            ]
          },
          "execution_count": 3,
          "metadata": {},
          "output_type": "execute_result"
        }
      ],
      "source": [
        "df.head()   "
      ]
    },
    {
      "cell_type": "code",
      "execution_count": 4,
      "metadata": {},
      "outputs": [
        {
          "data": {
            "text/html": [
              "<div>\n",
              "<style scoped>\n",
              "    .dataframe tbody tr th:only-of-type {\n",
              "        vertical-align: middle;\n",
              "    }\n",
              "\n",
              "    .dataframe tbody tr th {\n",
              "        vertical-align: top;\n",
              "    }\n",
              "\n",
              "    .dataframe thead th {\n",
              "        text-align: right;\n",
              "    }\n",
              "</style>\n",
              "<table border=\"1\" class=\"dataframe\">\n",
              "  <thead>\n",
              "    <tr style=\"text-align: right;\">\n",
              "      <th></th>\n",
              "      <th>link</th>\n",
              "      <th>PageRank_score</th>\n",
              "    </tr>\n",
              "  </thead>\n",
              "  <tbody>\n",
              "    <tr>\n",
              "      <th>447</th>\n",
              "      <td>&lt;http://dbpedia.org/resource/AbbesS&gt;</td>\n",
              "      <td>0.285562</td>\n",
              "    </tr>\n",
              "    <tr>\n",
              "      <th>514</th>\n",
              "      <td>&lt;http://dbpedia.org/resource/Amino_group&gt;</td>\n",
              "      <td>0.284441</td>\n",
              "    </tr>\n",
              "    <tr>\n",
              "      <th>693</th>\n",
              "      <td>&lt;http://dbpedia.org/resource/Ada_Byron%27s_not...</td>\n",
              "      <td>0.282813</td>\n",
              "    </tr>\n",
              "    <tr>\n",
              "      <th>118</th>\n",
              "      <td>&lt;http://dbpedia.org/resource/ArgumentForms&gt;</td>\n",
              "      <td>0.282562</td>\n",
              "    </tr>\n",
              "    <tr>\n",
              "      <th>58</th>\n",
              "      <td>&lt;http://dbpedia.org/resource/Algorithms&gt;</td>\n",
              "      <td>0.282410</td>\n",
              "    </tr>\n",
              "  </tbody>\n",
              "</table>\n",
              "</div>"
            ],
            "text/plain": [
              "                                                  link  PageRank_score\n",
              "447               <http://dbpedia.org/resource/AbbesS>        0.285562\n",
              "514          <http://dbpedia.org/resource/Amino_group>        0.284441\n",
              "693  <http://dbpedia.org/resource/Ada_Byron%27s_not...        0.282813\n",
              "118        <http://dbpedia.org/resource/ArgumentForms>        0.282562\n",
              "58            <http://dbpedia.org/resource/Algorithms>        0.282410"
            ]
          },
          "execution_count": 4,
          "metadata": {},
          "output_type": "execute_result"
        }
      ],
      "source": [
        "# Sort the DataFrame by PageRank_score in descending order\n",
        "df_sorted = df.sort_values(by='PageRank_score', ascending=False)\n",
        "df_sorted.head()"
      ]
    },
    {
      "cell_type": "code",
      "execution_count": 7,
      "metadata": {},
      "outputs": [],
      "source": [
        "# Save the sorted DataFrame to a CSV file\n",
        "df_sorted.to_csv(os.path.join(result_folder, 'sorted_pagerank.csv'), index=False)"
      ]
    },
    {
      "cell_type": "code",
      "execution_count": null,
      "metadata": {},
      "outputs": [],
      "source": []
    },
    {
      "cell_type": "code",
      "execution_count": null,
      "metadata": {},
      "outputs": [],
      "source": []
    }
  ],
  "metadata": {
    "colab": {
      "authorship_tag": "ABX9TyMquPisG8ynfWsWW25+mj6n",
      "include_colab_link": true,
      "provenance": []
    },
    "kernelspec": {
      "display_name": "Python 3",
      "name": "python3"
    },
    "language_info": {
      "codemirror_mode": {
        "name": "ipython",
        "version": 3
      },
      "file_extension": ".py",
      "mimetype": "text/x-python",
      "name": "python",
      "nbconvert_exporter": "python",
      "pygments_lexer": "ipython3",
      "version": "3.12.7"
    }
  },
  "nbformat": 4,
  "nbformat_minor": 0
}
