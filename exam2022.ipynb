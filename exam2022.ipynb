{
  "nbformat": 4,
  "nbformat_minor": 0,
  "metadata": {
    "colab": {
      "provenance": [],
      "authorship_tag": "ABX9TyPO49tzlN4hoc+Ymy2DHr/Z",
      "include_colab_link": true
    },
    "kernelspec": {
      "name": "python3",
      "display_name": "Python 3"
    },
    "language_info": {
      "name": "python"
    }
  },
  "cells": [
    {
      "cell_type": "markdown",
      "metadata": {
        "id": "view-in-github",
        "colab_type": "text"
      },
      "source": [
        "<a href=\"https://colab.research.google.com/github/momo54/large_scale_data_management/blob/main/exam2022.ipynb\" target=\"_parent\"><img src=\"https://colab.research.google.com/assets/colab-badge.svg\" alt=\"Open In Colab\"/></a>"
      ]
    },
    {
      "cell_type": "code",
      "execution_count": 1,
      "metadata": {
        "colab": {
          "base_uri": "https://localhost:8080/"
        },
        "id": "95u7JWUWDaON",
        "outputId": "10900e4f-f3f7-493b-be7e-ee042308d243"
      },
      "outputs": [
        {
          "output_type": "stream",
          "name": "stdout",
          "text": [
            "Collecting pyspark\n",
            "  Downloading pyspark-3.5.0.tar.gz (316.9 MB)\n",
            "\u001b[2K     \u001b[90m━━━━━━━━━━━━━━━━━━━━━━━━━━━━━━━━━━━━━━━━\u001b[0m \u001b[32m316.9/316.9 MB\u001b[0m \u001b[31m2.2 MB/s\u001b[0m eta \u001b[36m0:00:00\u001b[0m\n",
            "\u001b[?25h  Preparing metadata (setup.py) ... \u001b[?25l\u001b[?25hdone\n",
            "Requirement already satisfied: py4j==0.10.9.7 in /usr/local/lib/python3.10/dist-packages (from pyspark) (0.10.9.7)\n",
            "Building wheels for collected packages: pyspark\n",
            "  Building wheel for pyspark (setup.py) ... \u001b[?25l\u001b[?25hdone\n",
            "  Created wheel for pyspark: filename=pyspark-3.5.0-py2.py3-none-any.whl size=317425344 sha256=ba34874946633974ee71473bfaa99c8fc79302991cb3956e3759fd04ff8eb4ae\n",
            "  Stored in directory: /root/.cache/pip/wheels/41/4e/10/c2cf2467f71c678cfc8a6b9ac9241e5e44a01940da8fbb17fc\n",
            "Successfully built pyspark\n",
            "Installing collected packages: pyspark\n",
            "Successfully installed pyspark-3.5.0\n"
          ]
        }
      ],
      "source": [
        "!pip install pyspark\n",
        "!pip install -q findspark\n",
        "import findspark\n",
        "findspark.init()"
      ]
    },
    {
      "cell_type": "code",
      "source": [
        "from pyspark.sql import SparkSession\n",
        "spark = SparkSession.builder\\\n",
        "        .master(\"local\")\\\n",
        "        .appName(\"Colab\")\\\n",
        "        .config('spark.ui.port', '4050')\\\n",
        "        .getOrCreate()"
      ],
      "metadata": {
        "id": "AyBTEX2_Dtw2"
      },
      "execution_count": 2,
      "outputs": []
    },
    {
      "cell_type": "code",
      "source": [
        "!wget https://github.com/momo54/large_scale_data_management/raw/main/data/results.csv"
      ],
      "metadata": {
        "colab": {
          "base_uri": "https://localhost:8080/"
        },
        "id": "vDUH7vhhG05t",
        "outputId": "05d687a0-b72b-4fd1-fc79-22a6dfc0c210"
      },
      "execution_count": 4,
      "outputs": [
        {
          "output_type": "stream",
          "name": "stdout",
          "text": [
            "--2023-10-26 08:36:27--  https://github.com/momo54/large_scale_data_management/raw/main/data/results.csv\n",
            "Resolving github.com (github.com)... 140.82.113.3\n",
            "Connecting to github.com (github.com)|140.82.113.3|:443... connected.\n",
            "HTTP request sent, awaiting response... 302 Found\n",
            "Location: https://raw.githubusercontent.com/momo54/large_scale_data_management/main/data/results.csv [following]\n",
            "--2023-10-26 08:36:27--  https://raw.githubusercontent.com/momo54/large_scale_data_management/main/data/results.csv\n",
            "Resolving raw.githubusercontent.com (raw.githubusercontent.com)... 185.199.108.133, 185.199.111.133, 185.199.109.133, ...\n",
            "Connecting to raw.githubusercontent.com (raw.githubusercontent.com)|185.199.108.133|:443... connected.\n",
            "HTTP request sent, awaiting response... 200 OK\n",
            "Length: 3387571 (3.2M) [text/plain]\n",
            "Saving to: ‘results.csv’\n",
            "\n",
            "results.csv         100%[===================>]   3.23M  --.-KB/s    in 0.02s   \n",
            "\n",
            "2023-10-26 08:36:27 (179 MB/s) - ‘results.csv’ saved [3387571/3387571]\n",
            "\n"
          ]
        }
      ]
    },
    {
      "cell_type": "code",
      "source": [
        "df = spark.read.options(header='True',inferSchema='True',delimiter=',') \\\n",
        "  .csv(\"results.csv\")\n",
        "df.printSchema()"
      ],
      "metadata": {
        "colab": {
          "base_uri": "https://localhost:8080/"
        },
        "id": "YQe8WIicIRpf",
        "outputId": "666871be-e5cc-4c13-edaa-b3150d85b6df"
      },
      "execution_count": 7,
      "outputs": [
        {
          "output_type": "stream",
          "name": "stdout",
          "text": [
            "root\n",
            " |-- date: date (nullable = true)\n",
            " |-- home_team: string (nullable = true)\n",
            " |-- away_team: string (nullable = true)\n",
            " |-- home_score: integer (nullable = true)\n",
            " |-- away_score: integer (nullable = true)\n",
            " |-- tournament: string (nullable = true)\n",
            " |-- city: string (nullable = true)\n",
            " |-- country: string (nullable = true)\n",
            " |-- neutral: boolean (nullable = true)\n",
            "\n"
          ]
        }
      ]
    },
    {
      "cell_type": "code",
      "source": [
        "df.show(5);"
      ],
      "metadata": {
        "colab": {
          "base_uri": "https://localhost:8080/"
        },
        "id": "ARY5JhkLJoZK",
        "outputId": "2165fc76-fdb7-418d-ebb0-5f4a581961dc"
      },
      "execution_count": 9,
      "outputs": [
        {
          "output_type": "stream",
          "name": "stdout",
          "text": [
            "+----------+---------+---------+----------+----------+----------+-------+--------+-------+\n",
            "|      date|home_team|away_team|home_score|away_score|tournament|   city| country|neutral|\n",
            "+----------+---------+---------+----------+----------+----------+-------+--------+-------+\n",
            "|1872-11-30| Scotland|  England|         0|         0|  Friendly|Glasgow|Scotland|  false|\n",
            "|1873-03-08|  England| Scotland|         4|         2|  Friendly| London| England|  false|\n",
            "|1874-03-07| Scotland|  England|         2|         1|  Friendly|Glasgow|Scotland|  false|\n",
            "|1875-03-06|  England| Scotland|         2|         2|  Friendly| London| England|  false|\n",
            "|1876-03-04| Scotland|  England|         3|         0|  Friendly|Glasgow|Scotland|  false|\n",
            "+----------+---------+---------+----------+----------+----------+-------+--------+-------+\n",
            "only showing top 5 rows\n",
            "\n"
          ]
        }
      ]
    },
    {
      "cell_type": "markdown",
      "source": [
        "1. Quelle est l’équipe qui marqué le plus de buts ?\n",
        "2. Quelle est l’équipe qui a pris le plus de but ?\n",
        "3. Quelle est la ville qui a accueilli le plus de match ?\n",
        "4. Quelles sont les  ́equipes qui n’ont pas  été battue ?"
      ],
      "metadata": {
        "id": "rIrSyUCwJxhS"
      }
    },
    {
      "cell_type": "code",
      "source": [
        "# A vous de jouer..."
      ],
      "metadata": {
        "id": "AGNkeJaaJw_v"
      },
      "execution_count": 10,
      "outputs": []
    }
  ]
}