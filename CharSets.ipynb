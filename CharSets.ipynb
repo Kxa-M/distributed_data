{
  "nbformat": 4,
  "nbformat_minor": 0,
  "metadata": {
    "colab": {
      "provenance": [],
      "collapsed_sections": [],
      "authorship_tag": "ABX9TyNw5Apx9YUfPyBVnENA9wDR",
      "include_colab_link": true
    },
    "kernelspec": {
      "name": "python3",
      "display_name": "Python 3"
    },
    "language_info": {
      "name": "python"
    }
  },
  "cells": [
    {
      "cell_type": "markdown",
      "metadata": {
        "id": "view-in-github",
        "colab_type": "text"
      },
      "source": [
        "<a href=\"https://colab.research.google.com/github/momo54/large_scale_data_management/blob/main/CharSets.ipynb\" target=\"_parent\"><img src=\"https://colab.research.google.com/assets/colab-badge.svg\" alt=\"Open In Colab\"/></a>"
      ]
    },
    {
      "cell_type": "code",
      "execution_count": 3,
      "metadata": {
        "colab": {
          "base_uri": "https://localhost:8080/"
        },
        "id": "__GZNJd7YXnd",
        "outputId": "e1404163-be6d-4bcf-f457-46c188205abc"
      },
      "outputs": [
        {
          "output_type": "stream",
          "name": "stdout",
          "text": [
            "Looking in indexes: https://pypi.org/simple, https://us-python.pkg.dev/colab-wheels/public/simple/\n",
            "Requirement already satisfied: pyspark in /usr/local/lib/python3.7/dist-packages (3.3.0)\n",
            "Requirement already satisfied: py4j==0.10.9.5 in /usr/local/lib/python3.7/dist-packages (from pyspark) (0.10.9.5)\n",
            "part_0.gz  part_0.gz.1\tsample_data\n",
            "2113514\n"
          ]
        },
        {
          "output_type": "execute_result",
          "data": {
            "text/plain": [
              "[('_:nb53a24408607424384c1357880ce1bc7xb0',\n",
              "  '<http://www.w3.org/1999/02/22-rdf-syntax-ns#type>',\n",
              "  '<http://schema.org/Mountain>',\n",
              "  '<https://peakery.com/dragontail-peak-washington/>')]"
            ]
          },
          "metadata": {},
          "execution_count": 3
        }
      ],
      "source": [
        "!pip install pyspark\n",
        "!pip install -q findspark\n",
        "import findspark\n",
        "findspark.init()\n",
        "from pyspark.sql import SparkSession\n",
        "spark = SparkSession.builder\\\n",
        "        .master(\"local\")\\\n",
        "        .appName(\"Colab\")\\\n",
        "        .config('spark.ui.port', '4050')\\\n",
        "        .getOrCreate()\n",
        "!wget -q \"https://data.dws.informatik.uni-mannheim.de/structureddata/2021-12/quads/classspecific/schema_Mountain/part_0.gz\"\n",
        "!ls\n",
        "lines = spark.read.text(\"part_0.gz\").rdd.map(lambda r: r[0])\n"
      ]
    },
    {
      "cell_type": "code",
      "source": [
        "import re\n",
        "def parseQuads(line) :\n",
        "    \"\"\"Parses a urls pair string into urls pair.\"\"\"\n",
        "    parts = re.split(r'\\s+', line)\n",
        "    return parts[0], parts[1],parts[2], parts[3]\n",
        "quads=lines.map(lambda x:parseQuads(x))\n",
        "print(quads.count())\n",
        "quads.take(1)\n",
        "\n",
        "\n"
      ],
      "metadata": {
        "colab": {
          "base_uri": "https://localhost:8080/"
        },
        "id": "C25f5rl-h2ZH",
        "outputId": "4e1b9beb-19c4-4499-b92a-fa2df7116dad"
      },
      "execution_count": 29,
      "outputs": [
        {
          "output_type": "stream",
          "name": "stdout",
          "text": [
            "2113514\n",
            "2113514\n"
          ]
        },
        {
          "output_type": "execute_result",
          "data": {
            "text/plain": [
              "[('_:nb53a24408607424384c1357880ce1bc7xb0',\n",
              "  'isa:<http://schema.org/Mountain>')]"
            ]
          },
          "metadata": {},
          "execution_count": 29
        }
      ]
    },
    {
      "cell_type": "code",
      "source": [
        "cs=quads.map(lambda x: (x[0],x[1])).groupByKey().mapValues(list)\n",
        "cs.take(5)"
      ],
      "metadata": {
        "colab": {
          "base_uri": "https://localhost:8080/"
        },
        "id": "XfNWrsqiZpf-",
        "outputId": "f80fd5e3-11e4-4257-e928-8dcf33c5add2"
      },
      "execution_count": 9,
      "outputs": [
        {
          "output_type": "execute_result",
          "data": {
            "text/plain": [
              "[('_:nb53a24408607424384c1357880ce1bc7xb0',\n",
              "  ['<http://www.w3.org/1999/02/22-rdf-syntax-ns#type>',\n",
              "   '<http://schema.org/additionalProperty>',\n",
              "   '<http://schema.org/additionalProperty>',\n",
              "   '<http://schema.org/additionalProperty>',\n",
              "   '<http://schema.org/additionalProperty>',\n",
              "   '<http://schema.org/description>',\n",
              "   '<http://schema.org/geo>',\n",
              "   '<http://schema.org/image>',\n",
              "   '<http://schema.org/name>']),\n",
              " ('_:nb53a24408607424384c1357880ce1bc7xb1',\n",
              "  ['<http://www.w3.org/1999/02/22-rdf-syntax-ns#type>',\n",
              "   '<http://schema.org/name>',\n",
              "   '<http://schema.org/value>']),\n",
              " ('_:nb53a24408607424384c1357880ce1bc7xb2',\n",
              "  ['<http://www.w3.org/1999/02/22-rdf-syntax-ns#type>',\n",
              "   '<http://schema.org/name>',\n",
              "   '<http://schema.org/value>']),\n",
              " ('_:nb53a24408607424384c1357880ce1bc7xb3',\n",
              "  ['<http://www.w3.org/1999/02/22-rdf-syntax-ns#type>',\n",
              "   '<http://schema.org/name>',\n",
              "   '<http://schema.org/value>']),\n",
              " ('_:nb53a24408607424384c1357880ce1bc7xb4',\n",
              "  ['<http://www.w3.org/1999/02/22-rdf-syntax-ns#type>',\n",
              "   '<http://schema.org/name>',\n",
              "   '<http://schema.org/value>'])]"
            ]
          },
          "metadata": {},
          "execution_count": 9
        }
      ]
    },
    {
      "cell_type": "code",
      "source": [
        "cs2=cs.map(lambda x: ('!'.join(sorted(list(dict.fromkeys(x[1])))),x[0])).groupByKey()\n",
        "cs3=cs2.mapValues(lambda x: len(x))\n",
        "cs3.count()"
      ],
      "metadata": {
        "colab": {
          "base_uri": "https://localhost:8080/"
        },
        "id": "ei6_L9F3a1LO",
        "outputId": "d260dd05-2c15-4b5e-cf9d-287245afb72e"
      },
      "execution_count": 28,
      "outputs": [
        {
          "output_type": "execute_result",
          "data": {
            "text/plain": [
              "388"
            ]
          },
          "metadata": {},
          "execution_count": 28
        }
      ]
    },
    {
      "cell_type": "code",
      "source": [
        "def parsePred(line) :\n",
        "    \"\"\"Parses a urls pair string into urls pair.\"\"\"\n",
        "    parts = re.split(r'\\s+', line)\n",
        "    if parts[1]==\"<http://www.w3.org/1999/02/22-rdf-syntax-ns#type>\":\n",
        "      parts[1]=\"isa:\"+parts[2]\n",
        "    return parts[0], parts[1]\n",
        "preds=lines.map(lambda x:parsePred(x))\n",
        "print(preds.count())\n",
        "preds.take(1)\n",
        "\n"
      ],
      "metadata": {
        "colab": {
          "base_uri": "https://localhost:8080/"
        },
        "id": "SSondw8YizjI",
        "outputId": "74b6ec9b-91d8-4ed5-dd43-fedbfdc6efd0"
      },
      "execution_count": 45,
      "outputs": [
        {
          "output_type": "stream",
          "name": "stdout",
          "text": [
            "2113514\n"
          ]
        },
        {
          "output_type": "execute_result",
          "data": {
            "text/plain": [
              "46130"
            ]
          },
          "metadata": {},
          "execution_count": 45
        }
      ]
    },
    {
      "cell_type": "code",
      "source": [
        "# how many mountains ??\n",
        "preds.filter(lambda x: x[1].count(\"isa:<http://schema.org/Mountain>\")>0).distinct().count()\n"
      ],
      "metadata": {
        "colab": {
          "base_uri": "https://localhost:8080/"
        },
        "id": "LN9-_7D7n3e0",
        "outputId": "86f901d4-cdda-4892-a0ef-e99c8cc61e2d"
      },
      "execution_count": 46,
      "outputs": [
        {
          "output_type": "execute_result",
          "data": {
            "text/plain": [
              "46112"
            ]
          },
          "metadata": {},
          "execution_count": 46
        }
      ]
    },
    {
      "cell_type": "code",
      "source": [
        "cspred=preds.groupByKey().mapValues(list)\n",
        "cspred.take(5)"
      ],
      "metadata": {
        "colab": {
          "base_uri": "https://localhost:8080/"
        },
        "id": "qquMa0aYi0_b",
        "outputId": "dd0e2fad-16df-4812-f665-e22bc4a857c3"
      },
      "execution_count": 36,
      "outputs": [
        {
          "output_type": "execute_result",
          "data": {
            "text/plain": [
              "[('_:nb53a24408607424384c1357880ce1bc7xb0',\n",
              "  ['isa:<http://schema.org/Mountain>',\n",
              "   '<http://schema.org/additionalProperty>',\n",
              "   '<http://schema.org/additionalProperty>',\n",
              "   '<http://schema.org/additionalProperty>',\n",
              "   '<http://schema.org/additionalProperty>',\n",
              "   '<http://schema.org/description>',\n",
              "   '<http://schema.org/geo>',\n",
              "   '<http://schema.org/image>',\n",
              "   '<http://schema.org/name>']),\n",
              " ('_:nb53a24408607424384c1357880ce1bc7xb1',\n",
              "  ['isa:<http://schema.org/propertyValue>',\n",
              "   '<http://schema.org/name>',\n",
              "   '<http://schema.org/value>']),\n",
              " ('_:nb53a24408607424384c1357880ce1bc7xb2',\n",
              "  ['isa:<http://schema.org/propertyValue>',\n",
              "   '<http://schema.org/name>',\n",
              "   '<http://schema.org/value>']),\n",
              " ('_:nb53a24408607424384c1357880ce1bc7xb3',\n",
              "  ['isa:<http://schema.org/propertyValue>',\n",
              "   '<http://schema.org/name>',\n",
              "   '<http://schema.org/value>']),\n",
              " ('_:nb53a24408607424384c1357880ce1bc7xb4',\n",
              "  ['isa:<http://schema.org/propertyValue>',\n",
              "   '<http://schema.org/name>',\n",
              "   '<http://schema.org/value>'])]"
            ]
          },
          "metadata": {},
          "execution_count": 36
        }
      ]
    },
    {
      "cell_type": "code",
      "source": [
        "#filter on Mountains\n",
        "cspred2=cspred.filter(lambda x: x[1].count(\"isa:<http://schema.org/Mountain>\")>0)\n",
        "cspred2.take(5)\n"
      ],
      "metadata": {
        "colab": {
          "base_uri": "https://localhost:8080/"
        },
        "id": "qY5bfY9ijQFd",
        "outputId": "33eee2a3-0e14-420a-b655-2f5b5aa16ae9"
      },
      "execution_count": 39,
      "outputs": [
        {
          "output_type": "execute_result",
          "data": {
            "text/plain": [
              "[('_:nb53a24408607424384c1357880ce1bc7xb0',\n",
              "  ['isa:<http://schema.org/Mountain>',\n",
              "   '<http://schema.org/additionalProperty>',\n",
              "   '<http://schema.org/additionalProperty>',\n",
              "   '<http://schema.org/additionalProperty>',\n",
              "   '<http://schema.org/additionalProperty>',\n",
              "   '<http://schema.org/description>',\n",
              "   '<http://schema.org/geo>',\n",
              "   '<http://schema.org/image>',\n",
              "   '<http://schema.org/name>']),\n",
              " ('_:na15b9aeffa0444219164d60919a9c91bxb0',\n",
              "  ['isa:<http://schema.org/Mountain>',\n",
              "   '<http://schema.org/additionalProperty>',\n",
              "   '<http://schema.org/additionalProperty>',\n",
              "   '<http://schema.org/geo>',\n",
              "   '<http://schema.org/image>',\n",
              "   '<http://schema.org/name>']),\n",
              " ('_:nb1818c388f1a48f3932fd01e4affad7cxb0',\n",
              "  ['isa:<http://schema.org/Mountain>',\n",
              "   '<http://schema.org/additionalProperty>',\n",
              "   '<http://schema.org/additionalProperty>',\n",
              "   '<http://schema.org/geo>',\n",
              "   '<http://schema.org/image>',\n",
              "   '<http://schema.org/name>']),\n",
              " ('_:n5684a976a460406cb0a0c71eac491a61xb0',\n",
              "  ['isa:<http://schema.org/Mountain>',\n",
              "   '<http://schema.org/geo>',\n",
              "   '<http://schema.org/name>']),\n",
              " ('_:nb2845c4184d6422d8241c293a653c7b1xb0',\n",
              "  ['isa:<http://schema.org/Mountain>',\n",
              "   '<http://schema.org/additionalProperty>',\n",
              "   '<http://schema.org/additionalProperty>',\n",
              "   '<http://schema.org/geo>',\n",
              "   '<http://schema.org/image>',\n",
              "   '<http://schema.org/name>'])]"
            ]
          },
          "metadata": {},
          "execution_count": 39
        }
      ]
    },
    {
      "cell_type": "code",
      "source": [
        "cspred3=cspred2.map(lambda x: ('!'.join(sorted(list(dict.fromkeys(x[1])))),x[0])).groupByKey()\n",
        "cspred4=cspred3.mapValues(lambda x: len(x)).sortBy(lambda x:x[1],ascending=False)\n",
        "\n",
        "nbm=cspred4.map(lambda x:x[1]).sum()\n",
        "if nbm==46112:\n",
        "  print(\"we got all mountains\")\n",
        "cspred4.collect()"
      ],
      "metadata": {
        "colab": {
          "base_uri": "https://localhost:8080/"
        },
        "id": "BwHMCyXVkIfc",
        "outputId": "148922e0-ec38-4787-e5b1-8dbc4a7bd3e7"
      },
      "execution_count": 54,
      "outputs": [
        {
          "output_type": "stream",
          "name": "stdout",
          "text": [
            "we got all mountains\n"
          ]
        },
        {
          "output_type": "execute_result",
          "data": {
            "text/plain": [
              "[('<http://schema.org/additionalProperty>!<http://schema.org/geo>!<http://schema.org/image>!<http://schema.org/name>!isa:<http://schema.org/Mountain>',\n",
              "  13859),\n",
              " ('<http://schema.org/additionalType>!<http://schema.org/name>!<http://schema.org/position>!<http://schema.org/url>!isa:<http://schema.org/ListItem>!isa:<http://schema.org/Mountain>',\n",
              "  12801),\n",
              " ('<http://schema.org/geo>!<http://schema.org/name>!isa:<http://schema.org/Mountain>',\n",
              "  5912),\n",
              " ('<http://schema.org/description>!<http://schema.org/geo>!<http://schema.org/map>!<http://schema.org/name>!isa:<http://schema.org/Mountain>',\n",
              "  3843),\n",
              " ('<http://schema.org/description>!<http://schema.org/geo>!<http://schema.org/name>!<http://schema.org/url>!isa:<http://schema.org/Mountain>',\n",
              "  2955),\n",
              " ('<http://schema.org/containedIn>!<http://schema.org/geo>!<http://schema.org/name>!<http://schema.org/url>!isa:<http://schema.org/Mountain>',\n",
              "  1387),\n",
              " ('<http://schema.org/name>!<http://schema.org/position>!<http://schema.org/url>!isa:<http://schema.org/Mountain>',\n",
              "  800),\n",
              " ('<http://schema.org/geo>!<http://schema.org/name>!<http://schema.org/url>!isa:<http://schema.org/Mountain>',\n",
              "  693),\n",
              " ('<http://schema.org/address>!<http://schema.org/geo>!<http://schema.org/name>!isa:<http://schema.org/Mountain>',\n",
              "  654),\n",
              " ('<http://schema.org/geo>!isa:<http://schema.org/Mountain>', 652),\n",
              " ('<http://schema.org/alternateName>!<http://schema.org/containedIn>!<http://schema.org/geo>!<http://schema.org/name>!<http://schema.org/url>!isa:<http://schema.org/Mountain>',\n",
              "  560),\n",
              " ('<http://schema.org/additionalProperty>!<http://schema.org/additionalType>!<http://schema.org/description>!<http://schema.org/geo>!<http://schema.org/itemListElement>!<http://schema.org/name>!isa:<http://schema.org/Mountain>!isa:<http://schema.org/TouristAttraction>',\n",
              "  463),\n",
              " ('<http://schema.org/name>!isa:<http://schema.org/Mountain>', 294),\n",
              " ('<http://schema.org/alternateName>!<http://schema.org/geo>!<http://schema.org/name>!<http://schema.org/url>!isa:<http://schema.org/Mountain>',\n",
              "  269),\n",
              " ('<http://schema.org/description>!<http://schema.org/geo>!<http://schema.org/map>!<http://schema.org/name>!<http://schema.org/url>!isa:<http://schema.org/Mountain>',\n",
              "  145),\n",
              " ('<http://schema.org/containedInPlace>!<http://schema.org/name>!<http://schema.org/photos>!<http://schema.org/url>!isa:<http://schema.org/Mountain>',\n",
              "  107),\n",
              " ('<http://schema.org/url>!isa:<http://schema.org/Mountain>', 107),\n",
              " ('<http://schema.org/description>!<http://schema.org/geo>!<http://schema.org/image>!<http://schema.org/name>!<http://schema.org/url>!isa:<http://schema.org/Mountain>',\n",
              "  60),\n",
              " ('<http://schema.org/additionalProperty>!<http://schema.org/description>!<http://schema.org/geo>!<http://schema.org/image>!<http://schema.org/name>!isa:<http://schema.org/Mountain>',\n",
              "  54),\n",
              " ('<http://schema.org/address>!<http://schema.org/description>!<http://schema.org/geo>!<http://schema.org/isAccessibleForFree>!<http://schema.org/name>!<http://schema.org/url>!isa:<http://schema.org/Mountain>',\n",
              "  52),\n",
              " ('<http://schema.org/address>!<http://schema.org/description>!<http://schema.org/geo>!<http://schema.org/image>!<http://schema.org/name>!<http://schema.org/url>!isa:<http://schema.org/Mountain>',\n",
              "  49),\n",
              " ('<http://schema.org/description>!<http://schema.org/logo>!<http://schema.org/name>!<http://schema.org/photos>!<http://schema.org/url>!isa:<http://schema.org/Mountain>',\n",
              "  48),\n",
              " ('<http://schema.org/description>!<http://schema.org/image>!<http://schema.org/name>!<http://schema.org/url>!isa:<http://schema.org/Mountain>',\n",
              "  45),\n",
              " ('<http://schema.org/geo>!<http://schema.org/image>!<http://schema.org/name>!<http://schema.org/url>!isa:<http://schema.org/Mountain>',\n",
              "  25),\n",
              " ('<http://schema.org/address>!<http://schema.org/description>!<http://schema.org/geo>!<http://schema.org/isAccessibleForFree>!<http://schema.org/name>!<http://schema.org/photo>!<http://schema.org/url>!isa:<http://schema.org/Mountain>',\n",
              "  21),\n",
              " ('<http://schema.org/geo>!<http://schema.org/hasMap>!<http://schema.org/logo>!<http://schema.org/name>!<http://schema.org/photo>!<http://schema.org/url>!isa:<http://schema.org/Mountain>',\n",
              "  20),\n",
              " ('<http://schema.org/address>!<http://schema.org/description>!<http://schema.org/geo>!<http://schema.org/image>!<http://schema.org/name>!<http://schema.org/telephone>!<http://schema.org/url>!isa:<http://schema.org/Mountain>',\n",
              "  16),\n",
              " ('<http://schema.org/description>!<http://schema.org/name>!<http://schema.org/photo>!<http://schema.org/url>!isa:<http://schema.org/Mountain>',\n",
              "  16),\n",
              " ('<http://schema.org/address>!<http://schema.org/description>!<http://schema.org/email>!<http://schema.org/faxNumber>!<http://schema.org/image>!<http://schema.org/name>!<http://schema.org/servesCuisine>!<http://schema.org/telephone>!isa:<http://schema.org/Mountain>',\n",
              "  15),\n",
              " ('<http://schema.org/aggregateRating>!<http://schema.org/containedInPlace>!<http://schema.org/description>!<http://schema.org/image>!<http://schema.org/interactionCount>!<http://schema.org/name>!<http://schema.org/photos>!<http://schema.org/url>!isa:<http://schema.org/Mountain>',\n",
              "  14),\n",
              " ('<http://schema.org/containedIn>!<http://schema.org/geo>!<http://schema.org/hasMap>!<http://schema.org/logo>!<http://schema.org/name>!<http://schema.org/photo>!<http://schema.org/url>!isa:<http://schema.org/Mountain>',\n",
              "  13),\n",
              " ('<http://schema.org/image>!<http://schema.org/name>!<http://schema.org/photo>!isa:<http://schema.org/Mountain>',\n",
              "  13),\n",
              " ('<http://schema.org/address>!<http://schema.org/description>!<http://schema.org/geo>!<http://schema.org/image>!<http://schema.org/isAccessibleForFree>!<http://schema.org/name>!<http://schema.org/publicAccess>!isa:<http://schema.org/Mountain>',\n",
              "  12),\n",
              " ('<http://schema.org/description>!<http://schema.org/name>!isa:<http://schema.org/Mountain>',\n",
              "  12),\n",
              " ('<http://schema.org/address>!<http://schema.org/availableLanguage>!<http://schema.org/description>!<http://schema.org/image>!<http://schema.org/itemListElement>!<http://schema.org/name>!<http://schema.org/touristType>!isa:<http://schema.org/ItemList>!isa:<http://schema.org/Mountain>!isa:<http://schema.org/TouristAttraction>',\n",
              "  10),\n",
              " ('<http://schema.org/name>!<http://schema.org/photo>!isa:<http://schema.org/Mountain>',\n",
              "  10),\n",
              " ('<http://schema.org/address>!<http://schema.org/alternateName>!<http://schema.org/availableLanguage>!<http://schema.org/description>!<http://schema.org/image>!<http://schema.org/name>!<http://schema.org/touristType>!isa:<http://schema.org/LandmarksOrHistoricalBuildings>!isa:<http://schema.org/Mountain>!isa:<http://schema.org/RiverBodyOfWater>!isa:<http://schema.org/Tourist%20Destination>!isa:<http://schema.org/TouristAttraction>',\n",
              "  9),\n",
              " ('<http://schema.org/aggregateRating>!<http://schema.org/containedInPlace>!<http://schema.org/description>!<http://schema.org/image>!<http://schema.org/interactionCount>!<http://schema.org/name>!<http://schema.org/photos>!<http://schema.org/review>!<http://schema.org/url>!isa:<http://schema.org/Mountain>',\n",
              "  7),\n",
              " ('<http://schema.org/description>!<http://schema.org/eventStatus>!<http://schema.org/identifier>!<http://schema.org/image>!<http://schema.org/location>!<http://schema.org/name>!<http://schema.org/url>!isa:<http://schema.org/Mountain>',\n",
              "  6),\n",
              " ('<http://schema.org/geo>!<http://schema.org/identifier>!<http://schema.org/image>!<http://schema.org/name>!isa:<http://schema.org/Mountain>',\n",
              "  6),\n",
              " ('<http://schema.org/description>!<http://schema.org/geo>!<http://schema.org/image>!<http://schema.org/name>!<http://schema.org/photo>!<http://schema.org/url>!isa:<http://schema.org/Mountain>',\n",
              "  4),\n",
              " ('<http://schema.org/additionalProperty>!<http://schema.org/additionalType>!<http://schema.org/description>!<http://schema.org/geo>!<http://schema.org/name>!isa:<http://schema.org/Mountain>!isa:<http://schema.org/TouristAttraction>',\n",
              "  4),\n",
              " ('<http://schema.org/additionalType>!<http://schema.org/geo>!<http://schema.org/name>!isa:<http://schema.org/Mountain>!isa:<http://schema.org/TouristAttraction>',\n",
              "  4),\n",
              " ('<http://schema.org/description>!<http://schema.org/image>!<http://schema.org/name>!<http://schema.org/servesCuisine>!isa:<http://schema.org/Mountain>',\n",
              "  3),\n",
              " ('<http://schema.org/address>!<http://schema.org/availableLanguage>!<http://schema.org/description>!<http://schema.org/image>!<http://schema.org/name>!<http://schema.org/touristType>!isa:<http://schema.org/Mountain>!isa:<http://schema.org/RiverBodyOfWater>!isa:<http://schema.org/Tourist%20Destination>!isa:<http://schema.org/TouristAttraction>',\n",
              "  3),\n",
              " ('<http://schema.org/Distance>!<http://schema.org/containedInPlace>!<http://schema.org/description>!<http://schema.org/fromLocation>!<http://schema.org/geo>!<http://schema.org/hasMap>!<http://schema.org/image>!<http://schema.org/isAccessibleForFree>!<http://schema.org/name>!<http://schema.org/publicAccess>!<http://schema.org/sameAs>!<http://schema.org/toLocation>!<http://schema.org/touristType>!isa:<http://schema.org/Mountain>!isa:<http://schema.org/TouristAttraction>!isa:<http://schema.org/TravelAction>',\n",
              "  3),\n",
              " ('<http://schema.org/description>!<http://schema.org/geo>!<http://schema.org/name>!<http://schema.org/photo>!<http://schema.org/url>!isa:<http://schema.org/Mountain>',\n",
              "  3),\n",
              " ('<http://schema.org/address>!<http://schema.org/description>!<http://schema.org/email>!<http://schema.org/image>!<http://schema.org/name>!<http://schema.org/openingHours>!<http://schema.org/servesCuisine>!<http://schema.org/telephone>!isa:<http://schema.org/Mountain>',\n",
              "  3),\n",
              " ('<http://schema.org/address>!<http://schema.org/description>!<http://schema.org/email>!<http://schema.org/image>!<http://schema.org/name>!<http://schema.org/servesCuisine>!<http://schema.org/telephone>!isa:<http://schema.org/Mountain>',\n",
              "  3),\n",
              " ('<http://schema.org/address>!<http://schema.org/containedInPlace>!<http://schema.org/description>!<http://schema.org/geo>!<http://schema.org/image>!<http://schema.org/name>!<http://schema.org/url>!isa:<http://schema.org/Mountain>',\n",
              "  3),\n",
              " ('<http://schema.org/containedIn>!<http://schema.org/geo>!<http://schema.org/map>!<http://schema.org/name>!<http://schema.org/photo>!<http://schema.org/url>!isa:<http://schema.org/Mountain>',\n",
              "  3),\n",
              " ('isa:<http://schema.org/Mountain>', 3),\n",
              " ('<http://schema.org/image>!<http://schema.org/name>!isa:<http://schema.org/Mountain>!isa:<http://schema.org/TouristAttraction>',\n",
              "  2),\n",
              " ('<http://schema.org/additionalType>!<http://schema.org/address>!<http://schema.org/availableLanguage>!<http://schema.org/description>!<http://schema.org/image>!<http://schema.org/name>!<http://schema.org/publicAccess>!<http://schema.org/sameAs>!<http://schema.org/touristType>!<http://schema.org/url>!isa:<http://schema.org/Mountain>!isa:<http://schema.org/TouristAttraction>',\n",
              "  2),\n",
              " ('<http://schema.org/address>!<http://schema.org/alternateName>!<http://schema.org/availableLanguage>!<http://schema.org/description>!<http://schema.org/image>!<http://schema.org/name>!<http://schema.org/touristType>!isa:<http://schema.org/Mountain>!isa:<http://schema.org/Museum>!isa:<http://schema.org/Pond>!isa:<http://schema.org/TouristAttraction>',\n",
              "  2),\n",
              " ('<http://schema.org/address>!<http://schema.org/containedInPlace>!<http://schema.org/currenciesAccepted>!<http://schema.org/description>!<http://schema.org/geo>!<http://schema.org/hasMap>!<http://schema.org/image>!<http://schema.org/isAccessibleForFree>!<http://schema.org/name>!<http://schema.org/openingHours>!<http://schema.org/paymentAccepted>!<http://schema.org/priceRange>!<http://schema.org/publicAccess>!<http://schema.org/sameAs>!<http://schema.org/telephone>!<http://schema.org/touristType>!<http://schema.org/url>!isa:<http://schema.org/Mountain>!isa:<http://schema.org/SkiResort>!isa:<http://schema.org/TouristAttraction>',\n",
              "  2),\n",
              " ('<http://schema.org/containedInPlace>!<http://schema.org/description>!<http://schema.org/geo>!<http://schema.org/image>!<http://schema.org/name>!<http://schema.org/url>!isa:<http://schema.org/Mountain>',\n",
              "  2),\n",
              " ('<http://schema.org/description>!isa:<http://schema.org/Mountain>', 2),\n",
              " ('<http://schema.org/alternateName>!<http://schema.org/photo>!isa:<http://schema.org/Mountain>',\n",
              "  2),\n",
              " ('<http://schema.org/author>!<http://schema.org/dateModified>!<http://schema.org/datePublished>!<http://schema.org/geo>!<http://schema.org/image>!<http://schema.org/name>!isa:<http://schema.org/Mountain>',\n",
              "  2),\n",
              " ('<http://schema.org/containedInPlace>!<http://schema.org/name>!isa:<http://schema.org/Mountain>',\n",
              "  2),\n",
              " ('<http://schema.org/address>!<http://schema.org/alternateName>!<http://schema.org/availableLanguage>!<http://schema.org/description>!<http://schema.org/image>!<http://schema.org/itemListElement>!<http://schema.org/name>!<http://schema.org/touristType>!isa:<http://schema.org/ItemList>!isa:<http://schema.org/LandmarksOrHistoricalBuildings>!isa:<http://schema.org/Mountain>!isa:<http://schema.org/TouristAttraction>',\n",
              "  1),\n",
              " ('<http://schema.org/Distance>!<http://schema.org/containedInPlace>!<http://schema.org/description>!<http://schema.org/fromLocation>!<http://schema.org/geo>!<http://schema.org/hasMap>!<http://schema.org/image>!<http://schema.org/isAccessibleForFree>!<http://schema.org/name>!<http://schema.org/publicAccess>!<http://schema.org/sameAs>!<http://schema.org/toLocation>!<http://schema.org/touristType>!isa:<http://schema.org/Mountain>!isa:<http://schema.org/TouristDestination>!isa:<http://schema.org/TravelAction>',\n",
              "  1),\n",
              " ('<http://schema.org/address>!<http://schema.org/alternateName>!<http://schema.org/availableLanguage>!<http://schema.org/description>!<http://schema.org/image>!<http://schema.org/name>!<http://schema.org/touristType>!isa:<http://schema.org/Mountain>!isa:<http://schema.org/TouristAttraction>',\n",
              "  1),\n",
              " ('<http://schema.org/Distance>!<http://schema.org/containedInPlace>!<http://schema.org/description>!<http://schema.org/fromLocation>!<http://schema.org/geo>!<http://schema.org/hasMap>!<http://schema.org/image>!<http://schema.org/isAccessibleForFree>!<http://schema.org/name>!<http://schema.org/publicAccess>!<http://schema.org/toLocation>!<http://schema.org/touristType>!isa:<http://schema.org/Mountain>!isa:<http://schema.org/TouristAttraction>!isa:<http://schema.org/TravelAction>',\n",
              "  1),\n",
              " ('<http://schema.org/additionalType>!<http://schema.org/address>!<http://schema.org/aggregateRating>!<http://schema.org/availableLanguage>!<http://schema.org/description>!<http://schema.org/geo>!<http://schema.org/image>!<http://schema.org/isAccessibleForFree>!<http://schema.org/name>!<http://schema.org/priceRange>!<http://schema.org/publicAccess>!<http://schema.org/telephone>!<http://schema.org/touristType>!<http://schema.org/url>!isa:<http://schema.org/LocalBusiness>!isa:<http://schema.org/Mountain>!isa:<http://schema.org/TouristAttraction>',\n",
              "  1),\n",
              " ('<http://schema.org/address>!<http://schema.org/alternateName>!<http://schema.org/availableLanguage>!<http://schema.org/description>!<http://schema.org/image>!<http://schema.org/name>!<http://schema.org/touristType>!isa:<http://schema.org/Mountain>!isa:<http://schema.org/TouristAttraction>!isa:<http://schema.org/Waterfall>',\n",
              "  1),\n",
              " ('<http://schema.org/address>!<http://schema.org/alternateName>!<http://schema.org/availableLanguage>!<http://schema.org/description>!<http://schema.org/image>!<http://schema.org/name>!<http://schema.org/touristType>!isa:<http://schema.org/Mountain>!isa:<http://schema.org/RiverBodyofWater>!isa:<http://schema.org/TouristAttraction>',\n",
              "  1),\n",
              " ('<http://schema.org/address>!<http://schema.org/description>!<http://schema.org/email>!<http://schema.org/faxNumber>!<http://schema.org/image>!<http://schema.org/name>!<http://schema.org/openingHours>!<http://schema.org/servesCuisine>!<http://schema.org/telephone>!isa:<http://schema.org/Mountain>',\n",
              "  1),\n",
              " ('<http://schema.org/image>!<http://schema.org/name>!<http://schema.org/sameAs>!isa:<http://schema.org/Mountain>!isa:<http://schema.org/TouristAttraction>',\n",
              "  1),\n",
              " ('<http://schema.org/address>!<http://schema.org/availableLanguage>!<http://schema.org/description>!<http://schema.org/image>!<http://schema.org/itemListElement>!<http://schema.org/name>!<http://schema.org/touristType>!isa:<http://schema.org/ItemList>!isa:<http://schema.org/LandmarksOrHistoricalBuildings>!isa:<http://schema.org/Mountain>!isa:<http://schema.org/RiverBodyofWater>!isa:<http://schema.org/TouristAttraction>',\n",
              "  1),\n",
              " ('<http://dbpedia.org/ontology/abstract>!<http://dbpedia.org/ontology/elevation>!<http://dbpedia.org/ontology/iso31661Code>!<http://dbpedia.org/ontology/locatedInArea>!<http://dbpedia.org/ontology/wikiPageExternalLink>!<http://dbpedia.org/ontology/wikiPageID>!<http://dbpedia.org/ontology/wikiPageRevisionID>!<http://de.dbpedia.org/property/breitengrad>!<http://de.dbpedia.org/property/l\\\\u00E4ngengrad>!<http://purl.org/dc/terms/subject>!<http://www.georss.org/georss/point>!<http://www.w3.org/2000/01/rdf-schema#comment>!<http://www.w3.org/2000/01/rdf-schema#label>!<http://www.w3.org/2002/07/owl#sameAs>!<http://www.w3.org/2003/01/geo/wgs84_pos#lat>!<http://www.w3.org/2003/01/geo/wgs84_pos#long>!<http://www.w3.org/ns/prov#wasDerivedFrom>!<http://xmlns.com/foaf/0.1/isPrimaryTopicOf>!isa:<http://dbpedia.org/ontology/Location>!isa:<http://dbpedia.org/ontology/Mountain>!isa:<http://dbpedia.org/ontology/NaturalPlace>!isa:<http://dbpedia.org/ontology/Place>!isa:<http://schema.org/Mountain>!isa:<http://schema.org/Place>!isa:<http://www.w3.org/2002/07/owl#Thing>!isa:<http://www.w3.org/2003/01/geo/wgs84_pos#SpatialThing>!isa:<http://www.wikidata.org/entity/Q8502>',\n",
              "  1),\n",
              " ('<http://dbpedia.org/ontology/abstract>!<http://dbpedia.org/ontology/elevation>!<http://dbpedia.org/ontology/eruptionYear>!<http://dbpedia.org/ontology/iso31661Code>!<http://dbpedia.org/ontology/locatedInArea>!<http://dbpedia.org/ontology/thumbnail>!<http://dbpedia.org/ontology/type>!<http://dbpedia.org/ontology/wikiPageExternalLink>!<http://dbpedia.org/ontology/wikiPageID>!<http://dbpedia.org/ontology/wikiPageRevisionID>!<http://de.dbpedia.org/property/bild>!<http://de.dbpedia.org/property/breitengrad>!<http://de.dbpedia.org/property/l\\\\u00E4ngengrad>!<http://purl.org/dc/terms/description>!<http://purl.org/dc/terms/subject>!<http://www.georss.org/georss/point>!<http://www.w3.org/2000/01/rdf-schema#comment>!<http://www.w3.org/2000/01/rdf-schema#label>!<http://www.w3.org/2002/07/owl#sameAs>!<http://www.w3.org/2003/01/geo/wgs84_pos#lat>!<http://www.w3.org/2003/01/geo/wgs84_pos#long>!<http://www.w3.org/ns/prov#wasDerivedFrom>!<http://xmlns.com/foaf/0.1/depiction>!<http://xmlns.com/foaf/0.1/isPrimaryTopicOf>!<http://xmlns.com/foaf/0.1/name>!isa:<http://dbpedia.org/ontology/Location>!isa:<http://dbpedia.org/ontology/Mountain>!isa:<http://dbpedia.org/ontology/NaturalPlace>!isa:<http://dbpedia.org/ontology/Place>!isa:<http://schema.org/Mountain>!isa:<http://schema.org/Place>!isa:<http://www.w3.org/2002/07/owl#Thing>!isa:<http://www.w3.org/2003/01/geo/wgs84_pos#SpatialThing>!isa:<http://www.wikidata.org/entity/Q8502>',\n",
              "  1),\n",
              " ('<http://dbpedia.org/ontology/abstract>!<http://dbpedia.org/ontology/elevation>!<http://dbpedia.org/ontology/eruptionYear>!<http://dbpedia.org/ontology/iso31661Code>!<http://dbpedia.org/ontology/locatedInArea>!<http://dbpedia.org/ontology/thumbnail>!<http://dbpedia.org/ontology/type>!<http://dbpedia.org/ontology/wikiPageExternalLink>!<http://dbpedia.org/ontology/wikiPageID>!<http://dbpedia.org/ontology/wikiPageRevisionID>!<http://de.dbpedia.org/property/bild>!<http://de.dbpedia.org/property/breitengrad>!<http://de.dbpedia.org/property/l\\\\u00E4ngengrad>!<http://purl.org/dc/terms/subject>!<http://www.georss.org/georss/point>!<http://www.w3.org/2000/01/rdf-schema#comment>!<http://www.w3.org/2000/01/rdf-schema#label>!<http://www.w3.org/2002/07/owl#sameAs>!<http://www.w3.org/2003/01/geo/wgs84_pos#lat>!<http://www.w3.org/2003/01/geo/wgs84_pos#long>!<http://www.w3.org/ns/prov#wasDerivedFrom>!<http://xmlns.com/foaf/0.1/depiction>!<http://xmlns.com/foaf/0.1/isPrimaryTopicOf>!<http://xmlns.com/foaf/0.1/name>!isa:<http://dbpedia.org/ontology/Location>!isa:<http://dbpedia.org/ontology/Mountain>!isa:<http://dbpedia.org/ontology/NaturalPlace>!isa:<http://dbpedia.org/ontology/Place>!isa:<http://schema.org/Mountain>!isa:<http://schema.org/Place>!isa:<http://www.w3.org/2002/07/owl#Thing>!isa:<http://www.w3.org/2003/01/geo/wgs84_pos#SpatialThing>!isa:<http://www.wikidata.org/entity/Q8502>',\n",
              "  1),\n",
              " ('<http://schema.org/description>!<http://schema.org/geo>!<http://schema.org/image>!<http://schema.org/map>!<http://schema.org/name>!isa:<http://schema.org/Mountain>',\n",
              "  1),\n",
              " ('<http://schema.org/additionalType>!<http://schema.org/name>!isa:<http://schema.org/Mountain>!isa:<http://schema.org/TouristAttraction>',\n",
              "  1),\n",
              " ('<http://dbpedia.org/ontology/abstract>!<http://dbpedia.org/ontology/elevation>!<http://dbpedia.org/ontology/eruptionYear>!<http://dbpedia.org/ontology/iso31661Code>!<http://dbpedia.org/ontology/locatedInArea>!<http://dbpedia.org/ontology/thumbnail>!<http://dbpedia.org/ontology/type>!<http://dbpedia.org/ontology/wikiPageExternalLink>!<http://dbpedia.org/ontology/wikiPageID>!<http://dbpedia.org/ontology/wikiPageRevisionID>!<http://de.dbpedia.org/property/alter>!<http://de.dbpedia.org/property/bild>!<http://de.dbpedia.org/property/breitengrad>!<http://de.dbpedia.org/property/l\\\\u00E4ngengrad>!<http://purl.org/dc/terms/description>!<http://purl.org/dc/terms/subject>!<http://www.georss.org/georss/point>!<http://www.w3.org/2000/01/rdf-schema#comment>!<http://www.w3.org/2000/01/rdf-schema#label>!<http://www.w3.org/2002/07/owl#sameAs>!<http://www.w3.org/2003/01/geo/wgs84_pos#lat>!<http://www.w3.org/2003/01/geo/wgs84_pos#long>!<http://www.w3.org/ns/prov#wasDerivedFrom>!<http://xmlns.com/foaf/0.1/depiction>!<http://xmlns.com/foaf/0.1/isPrimaryTopicOf>!<http://xmlns.com/foaf/0.1/name>!isa:<http://dbpedia.org/ontology/Location>!isa:<http://dbpedia.org/ontology/Mountain>!isa:<http://dbpedia.org/ontology/NaturalPlace>!isa:<http://dbpedia.org/ontology/Place>!isa:<http://schema.org/Mountain>!isa:<http://schema.org/Place>!isa:<http://www.w3.org/2002/07/owl#Thing>!isa:<http://www.w3.org/2003/01/geo/wgs84_pos#SpatialThing>!isa:<http://www.wikidata.org/entity/Q8502>',\n",
              "  1),\n",
              " ('<http://schema.org/description>!<http://schema.org/geo>!<http://schema.org/image>!<http://schema.org/map>!<http://schema.org/name>!<http://schema.org/url>!isa:<http://schema.org/Mountain>',\n",
              "  1),\n",
              " ('<http://cs.dbpedia.org/property/izolace>!<http://cs.dbpedia.org/property/n\\\\u00E1zev>!<http://cs.dbpedia.org/property/obr\\\\u00E1zek>!<http://cs.dbpedia.org/property/poho\\\\u0159\\\\u00ED>!<http://cs.dbpedia.org/property/popisek>!<http://cs.dbpedia.org/property/povod\\\\u00ED>!<http://cs.dbpedia.org/property/prominence>!<http://cs.dbpedia.org/property/seznamy>!<http://cs.dbpedia.org/property/st\\\\u00E1t>!<http://cs.dbpedia.org/property/vrchol>!<http://cs.dbpedia.org/property/wikiPageUsesTemplate>!<http://cs.dbpedia.org/property/zem\\\\u011Bpisn\\\\u00E1D\\\\u00E9lka>!<http://cs.dbpedia.org/property/zem\\\\u011Bpisn\\\\u00E1\\\\u0160\\\\u00ED\\\\u0159ka>!<http://dbpedia.org/ontology/abstract>!<http://dbpedia.org/ontology/country>!<http://dbpedia.org/ontology/elevation>!<http://dbpedia.org/ontology/mountainRange>!<http://dbpedia.org/ontology/thumbnail>!<http://dbpedia.org/ontology/wikiPageExternalLink>!<http://dbpedia.org/ontology/wikiPageID>!<http://dbpedia.org/ontology/wikiPageLength>!<http://dbpedia.org/ontology/wikiPageOutDegree>!<http://dbpedia.org/ontology/wikiPageRevisionID>!<http://dbpedia.org/ontology/wikiPageWikiLink>!<http://dbpedia.org/ontology/wikiPageWikiLinkText>!<http://purl.org/dc/terms/subject>!<http://www.georss.org/georss/point>!<http://www.w3.org/2000/01/rdf-schema#comment>!<http://www.w3.org/2000/01/rdf-schema#label>!<http://www.w3.org/2003/01/geo/wgs84_pos#lat>!<http://www.w3.org/2003/01/geo/wgs84_pos#long>!<http://www.w3.org/ns/prov#wasDerivedFrom>!<http://xmlns.com/foaf/0.1/depiction>!<http://xmlns.com/foaf/0.1/isPrimaryTopicOf>!<http://xmlns.com/foaf/0.1/name>!isa:<http://dbpedia.org/ontology/Location>!isa:<http://dbpedia.org/ontology/Mountain>!isa:<http://dbpedia.org/ontology/NaturalPlace>!isa:<http://dbpedia.org/ontology/Place>!isa:<http://schema.org/Mountain>!isa:<http://schema.org/Place>!isa:<http://www.w3.org/2002/07/owl#Thing>!isa:<http://www.w3.org/2003/01/geo/wgs84_pos#SpatialThing>!isa:<http://www.wikidata.org/entity/Q8502>',\n",
              "  1),\n",
              " ('<http://cs.dbpedia.org/property/hornina>!<http://cs.dbpedia.org/property/n\\\\u00E1zev>!<http://cs.dbpedia.org/property/obr\\\\u00E1zek>!<http://cs.dbpedia.org/property/poho\\\\u0159\\\\u00ED>!<http://cs.dbpedia.org/property/popisek>!<http://cs.dbpedia.org/property/prominence>!<http://cs.dbpedia.org/property/seznamy>!<http://cs.dbpedia.org/property/st\\\\u00E1t>!<http://cs.dbpedia.org/property/sv\\\\u011Btad\\\\u00EDl>!<http://cs.dbpedia.org/property/vrchol>!<http://cs.dbpedia.org/property/wikiPageUsesTemplate>!<http://cs.dbpedia.org/property/zem\\\\u011Bpisn\\\\u00E1D\\\\u00E9lka>!<http://cs.dbpedia.org/property/zem\\\\u011Bpisn\\\\u00E1\\\\u0160\\\\u00ED\\\\u0159ka>!<http://dbpedia.org/ontology/abstract>!<http://dbpedia.org/ontology/country>!<http://dbpedia.org/ontology/elevation>!<http://dbpedia.org/ontology/kindOfRock>!<http://dbpedia.org/ontology/land>!<http://dbpedia.org/ontology/mountainRange>!<http://dbpedia.org/ontology/thumbnail>!<http://dbpedia.org/ontology/wikiPageID>!<http://dbpedia.org/ontology/wikiPageLength>!<http://dbpedia.org/ontology/wikiPageOutDegree>!<http://dbpedia.org/ontology/wikiPageRevisionID>!<http://dbpedia.org/ontology/wikiPageWikiLink>!<http://dbpedia.org/ontology/wikiPageWikiLinkText>!<http://purl.org/dc/terms/subject>!<http://www.georss.org/georss/point>!<http://www.w3.org/2000/01/rdf-schema#comment>!<http://www.w3.org/2000/01/rdf-schema#label>!<http://www.w3.org/2003/01/geo/wgs84_pos#lat>!<http://www.w3.org/2003/01/geo/wgs84_pos#long>!<http://www.w3.org/ns/prov#wasDerivedFrom>!<http://xmlns.com/foaf/0.1/depiction>!<http://xmlns.com/foaf/0.1/isPrimaryTopicOf>!<http://xmlns.com/foaf/0.1/name>!isa:<http://dbpedia.org/ontology/Location>!isa:<http://dbpedia.org/ontology/Mountain>!isa:<http://dbpedia.org/ontology/NaturalPlace>!isa:<http://dbpedia.org/ontology/Place>!isa:<http://schema.org/Mountain>!isa:<http://schema.org/Place>!isa:<http://www.w3.org/2002/07/owl#Thing>!isa:<http://www.w3.org/2003/01/geo/wgs84_pos#SpatialThing>!isa:<http://www.wikidata.org/entity/Q8502>',\n",
              "  1),\n",
              " ('<http://cs.dbpedia.org/property/n\\\\u00E1zev>!<http://cs.dbpedia.org/property/obr\\\\u00E1zek>!<http://cs.dbpedia.org/property/vrchol>!<http://cs.dbpedia.org/property/wikiPageUsesTemplate>!<http://cs.dbpedia.org/property/zem\\\\u011Bpisn\\\\u00E1D\\\\u00E9lka>!<http://cs.dbpedia.org/property/zem\\\\u011Bpisn\\\\u00E1\\\\u0160\\\\u00ED\\\\u0159ka>!<http://dbpedia.org/ontology/abstract>!<http://dbpedia.org/ontology/elevation>!<http://dbpedia.org/ontology/thumbnail>!<http://dbpedia.org/ontology/wikiPageID>!<http://dbpedia.org/ontology/wikiPageLength>!<http://dbpedia.org/ontology/wikiPageOutDegree>!<http://dbpedia.org/ontology/wikiPageRevisionID>!<http://dbpedia.org/ontology/wikiPageWikiLink>!<http://purl.org/dc/terms/subject>!<http://www.georss.org/georss/point>!<http://www.w3.org/2000/01/rdf-schema#comment>!<http://www.w3.org/2000/01/rdf-schema#label>!<http://www.w3.org/2003/01/geo/wgs84_pos#lat>!<http://www.w3.org/2003/01/geo/wgs84_pos#long>!<http://www.w3.org/ns/prov#wasDerivedFrom>!<http://xmlns.com/foaf/0.1/depiction>!<http://xmlns.com/foaf/0.1/isPrimaryTopicOf>!<http://xmlns.com/foaf/0.1/name>!isa:<http://dbpedia.org/ontology/Location>!isa:<http://dbpedia.org/ontology/Mountain>!isa:<http://dbpedia.org/ontology/NaturalPlace>!isa:<http://dbpedia.org/ontology/Place>!isa:<http://schema.org/Mountain>!isa:<http://schema.org/Place>!isa:<http://www.w3.org/2002/07/owl#Thing>!isa:<http://www.w3.org/2003/01/geo/wgs84_pos#SpatialThing>!isa:<http://www.wikidata.org/entity/Q8502>',\n",
              "  1),\n",
              " ('<http://dbpedia.org/ontology/abstract>!<http://dbpedia.org/ontology/elevation>!<http://dbpedia.org/ontology/iso31661Code>!<http://dbpedia.org/ontology/locatedInArea>!<http://dbpedia.org/ontology/thumbnail>!<http://dbpedia.org/ontology/wikiPageExternalLink>!<http://dbpedia.org/ontology/wikiPageID>!<http://dbpedia.org/ontology/wikiPageRevisionID>!<http://de.dbpedia.org/property/bild>!<http://de.dbpedia.org/property/breitengrad>!<http://de.dbpedia.org/property/l\\\\u00E4ngengrad>!<http://purl.org/dc/terms/description>!<http://purl.org/dc/terms/subject>!<http://www.georss.org/georss/point>!<http://www.w3.org/2000/01/rdf-schema#comment>!<http://www.w3.org/2000/01/rdf-schema#label>!<http://www.w3.org/2002/07/owl#sameAs>!<http://www.w3.org/2003/01/geo/wgs84_pos#lat>!<http://www.w3.org/2003/01/geo/wgs84_pos#long>!<http://www.w3.org/ns/prov#wasDerivedFrom>!<http://xmlns.com/foaf/0.1/depiction>!<http://xmlns.com/foaf/0.1/isPrimaryTopicOf>!isa:<http://dbpedia.org/ontology/Location>!isa:<http://dbpedia.org/ontology/Mountain>!isa:<http://dbpedia.org/ontology/NaturalPlace>!isa:<http://dbpedia.org/ontology/Place>!isa:<http://schema.org/Mountain>!isa:<http://schema.org/Place>!isa:<http://www.w3.org/2002/07/owl#Thing>!isa:<http://www.w3.org/2003/01/geo/wgs84_pos#SpatialThing>!isa:<http://www.wikidata.org/entity/Q8502>',\n",
              "  1)]"
            ]
          },
          "metadata": {},
          "execution_count": 54
        }
      ]
    }
  ]
}